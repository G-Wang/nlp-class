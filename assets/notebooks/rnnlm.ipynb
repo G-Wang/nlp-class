{
 "cells": [
  {
   "cell_type": "markdown",
   "metadata": {},
   "source": [
    "# Recurrent Neural Networks as Language Models"
   ]
  },
  {
   "cell_type": "code",
   "execution_count": 8,
   "metadata": {
    "collapsed": false
   },
   "outputs": [],
   "source": [
    "import matplotlib\n",
    "import numpy as np\n",
    "import matplotlib.pyplot as plt\n",
    "%matplotlib inline"
   ]
  },
  {
   "cell_type": "code",
   "execution_count": 9,
   "metadata": {
    "collapsed": true
   },
   "outputs": [],
   "source": [
    "# In these functions, z and x are vectors.\n",
    "# We are doing an element wise operation on the vector.\n",
    "softmax = lambda z: np.exp(z - np.max(z)) / np.sum(np.exp(z - np.max(z)))\n",
    "sigmoid = lambda x: 1.0 / (1.0 + np.exp(-x))\n",
    "\n",
    "def rnn(s, wemb, U, W, V):\n",
    "    s_n = sigmoid( U * wemb + W * s )\n",
    "    y = softmax( V * s_n )\n",
    "    return s_n, y\n"
   ]
  },
  {
   "cell_type": "code",
   "execution_count": 21,
   "metadata": {
    "collapsed": false
   },
   "outputs": [
    {
     "data": {
      "image/png": "[encoded data removed]",
      "text/plain": [
       "<matplotlib.figure.Figure at 0x11aa5a490>"
      ]
     },
     "metadata": {},
     "output_type": "display_data"
    }
   ],
   "source": [
    "wemb = { \n",
    "    '<s>': np.mat('0.8; 0.2'),\n",
    "    'he': np.mat('0.26; 0.26'),\n",
    "    'himself': np.mat('0.24; 0.24'),\n",
    "    'she': np.mat('0.76; 0.76'),\n",
    "    'herself': np.mat('0.74; 0.74'),\n",
    "    'saw': np.mat('0.25; 0.75'),\n",
    "    }\n",
    "\n",
    "np.mat('0.26; 0.26').item(0,0)\n",
    "x = []\n",
    "y = []\n",
    "for w in wemb.keys():\n",
    "    x.append(wemb[w].item(0,0))\n",
    "    y.append(wemb[w].item(1,0))\n",
    "#print x, y\n",
    "fig, ax = plt.subplots()\n",
    "ax.scatter(x, y)\n",
    "for w in wemb.keys():\n",
    "    ax.annotate(w, (wemb[w].item(0,0), wemb[w].item(1,0)))\n"
   ]
  },
  {
   "cell_type": "code",
   "execution_count": 24,
   "metadata": {
    "collapsed": true
   },
   "outputs": [],
   "source": [
    "U = np.mat('1.0, 1.0; 1.0, 1.0')\n",
    "W = np.mat('1.0, 1.0; 1.0, 1.0')\n",
    "V = np.mat('0.75, 0.25; 0.26, 0.26; 0.24, 0.24; 0.76, 0.76; 0.74, 0.74; 0.25, 0.75')\n",
    "V_words = wemb.keys()\n",
    "s_0 = np.mat('0; 0')\n"
   ]
  },
  {
   "cell_type": "code",
   "execution_count": 41,
   "metadata": {
    "collapsed": false
   },
   "outputs": [
    {
     "name": "stdout",
     "output_type": "stream",
     "text": [
      "y:\n",
      "[[ 0.15947263]\n",
      " [ 0.11227646]\n",
      " [ 0.10904077]\n",
      " [ 0.23322946]\n",
      " [ 0.22650804]\n",
      " [ 0.15947263]]\n",
      "[(0, 0.15947263293457503), (1, 0.1122764585110807), (2, 0.10904077188380022), (3, 0.23322946284887747), (4, 0.22650804088709156), (5, 0.15947263293457503)]\n",
      "w, max(y): she 0.233229462849\n",
      "state:\n",
      "[[ 0.73105858]\n",
      " [ 0.73105858]]\n",
      "y:\n",
      "[[ 0.15474262]\n",
      " [ 0.09799521]\n",
      " [ 0.09433461]\n",
      " [ 0.25383342]\n",
      " [ 0.24435152]\n",
      " [ 0.15474262]]\n",
      "[(0, 0.15474261797965527), (1, 0.09799520668129748), (2, 0.09433461347299933), (3, 0.2538334227240058), (4, 0.24435152116238681), (5, 0.15474261797965527)]\n",
      "w, max(y): she 0.253833422724\n",
      "state:\n",
      "[[ 0.95175967]\n",
      " [ 0.95175967]]\n",
      "y:\n",
      "[[ 0.15483113]\n",
      " [ 0.09822742]\n",
      " [ 0.09457229]\n",
      " [ 0.25348521]\n",
      " [ 0.24405282]\n",
      " [ 0.15483113]]\n",
      "[(0, 0.1548311273802911), (1, 0.09822741550548778), (2, 0.09457229337019982), (3, 0.2534852138142801), (4, 0.24405282254945024), (5, 0.1548311273802911)]\n",
      "w, max(y): she 0.253485213814\n",
      "state:\n",
      "[[ 0.94802014]\n",
      " [ 0.94802014]]\n",
      "y:\n",
      "[[ 0.15438035]\n",
      " [ 0.09705567]\n",
      " [ 0.09337343]\n",
      " [ 0.25524707]\n",
      " [ 0.24556313]\n",
      " [ 0.15438035]]\n",
      "[(0, 0.15438035297105654), (1, 0.09705566549973776), (2, 0.09337342666087871), (3, 0.2552470679910648), (4, 0.24556313390620568), (5, 0.15438035297105654)]\n",
      "w, max(y): she 0.255247067991\n",
      "state:\n",
      "[[ 0.96694729]\n",
      " [ 0.96694729]]\n",
      "====================\n",
      "[[ 0.62714777]\n",
      " [ 0.62714777]]\n"
     ]
    }
   ],
   "source": [
    "import operator\n",
    "sent = '<s> she saw herself'.split()\n",
    "s = s_0\n",
    "for w in sent:\n",
    "    s_n, y = rnn(s, wemb[w], U, W, V)\n",
    "    print \"y:\\n\", y\n",
    "    y_vals = [i for i in enumerate(map(lambda x: x.item(0,0), y))]\n",
    "    print y_vals\n",
    "    max_index, max_value = max(y_vals, key=operator.itemgetter(1))\n",
    "    print \"w, max(y):\", V_words[max_index], max_value\n",
    "    print \"state:\\n\", s_n\n",
    "    s = s_n\n",
    "\n",
    "print '='*20\n",
    "U = np.mat('1.0, 1.0; 1.0, 1.0')\n",
    "print sigmoid(U * np.mat('0.26; 0.26'))"
   ]
  }
 ],
 "metadata": {
  "kernelspec": {
   "display_name": "Python 2",
   "language": "python",
   "name": "python2"
  },
  "language_info": {
   "codemirror_mode": {
    "name": "ipython",
    "version": 2
   },
   "file_extension": ".py",
   "mimetype": "text/x-python",
   "name": "python",
   "nbconvert_exporter": "python",
   "pygments_lexer": "ipython2",
   "version": "2.7.13"
  }
 },
 "nbformat": 4,
 "nbformat_minor": 2
}
