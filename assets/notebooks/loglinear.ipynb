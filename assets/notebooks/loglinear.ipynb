{
 "cells": [
  {
   "cell_type": "markdown",
   "metadata": {},
   "source": [
    "# Loglinear Models in NLTK"
   ]
  },
  {
   "cell_type": "code",
   "execution_count": 1,
   "metadata": {
    "collapsed": false
   },
   "outputs": [
    {
     "name": "stdout",
     "output_type": "stream",
     "text": [
      "Features used to classify a name as male or female:\n",
      "{   'alwayson': True,\n",
      "    'count(a)': 1,\n",
      "    'count(b)': 0,\n",
      "    'count(c)': 0,\n",
      "    'count(d)': 0,\n",
      "    'count(e)': 0,\n",
      "    'count(f)': 0,\n",
      "    'count(g)': 0,\n",
      "    'count(h)': 0,\n",
      "    'count(i)': 0,\n",
      "    'count(j)': 0,\n",
      "    'count(k)': 0,\n",
      "    'count(l)': 0,\n",
      "    'count(m)': 0,\n",
      "    'count(n)': 1,\n",
      "    'count(o)': 2,\n",
      "    'count(p)': 1,\n",
      "    'count(q)': 0,\n",
      "    'count(r)': 0,\n",
      "    'count(s)': 0,\n",
      "    'count(t)': 0,\n",
      "    'count(u)': 0,\n",
      "    'count(v)': 0,\n",
      "    'count(w)': 0,\n",
      "    'count(x)': 0,\n",
      "    'count(y)': 0,\n",
      "    'count(z)': 0,\n",
      "    'endswith': 'p',\n",
      "    'has(a)': True,\n",
      "    'has(b)': False,\n",
      "    'has(c)': False,\n",
      "    'has(d)': False,\n",
      "    'has(e)': False,\n",
      "    'has(f)': False,\n",
      "    'has(g)': False,\n",
      "    'has(h)': False,\n",
      "    'has(i)': False,\n",
      "    'has(j)': False,\n",
      "    'has(k)': False,\n",
      "    'has(l)': False,\n",
      "    'has(m)': False,\n",
      "    'has(n)': True,\n",
      "    'has(o)': True,\n",
      "    'has(p)': True,\n",
      "    'has(q)': False,\n",
      "    'has(r)': False,\n",
      "    'has(s)': False,\n",
      "    'has(t)': False,\n",
      "    'has(u)': False,\n",
      "    'has(v)': False,\n",
      "    'has(w)': False,\n",
      "    'has(x)': False,\n",
      "    'has(y)': False,\n",
      "    'has(z)': False,\n",
      "    'startswith': 'a'}\n"
     ]
    }
   ],
   "source": [
    "%matplotlib inline\n",
    "import matplotlib\n",
    "import matplotlib.pyplot as plt\n",
    "import random\n",
    "import pprint\n",
    "from nltk.classify.maxent import MaxentClassifier\n",
    "from nltk.classify.util import names_demo, names_demo_features\n",
    "\n",
    "print \"Features used to classify a name as male or female:\"\n",
    "pp = pprint.PrettyPrinter(indent=4)\n",
    "test_features = names_demo_features(\"anoop\")\n",
    "pp.pprint(test_features)"
   ]
  },
  {
   "cell_type": "code",
   "execution_count": 2,
   "metadata": {
    "collapsed": false
   },
   "outputs": [
    {
     "name": "stdout",
     "output_type": "stream",
     "text": [
      "Train loglinear classifier and run on some example input names:\n",
      "Training classifier...\n",
      "  ==> Training (20 iterations)\n",
      "\n",
      "      Iteration    Log Likelihood    Accuracy\n",
      "      ---------------------------------------\n",
      "             1          -0.69315        0.374\n",
      "             2          -0.61426        0.626\n",
      "             3          -0.59970        0.626\n",
      "             4          -0.58597        0.627\n",
      "             5          -0.57305        0.633\n",
      "             6          -0.56092        0.652\n",
      "             7          -0.54953        0.673\n",
      "             8          -0.53885        0.688\n",
      "             9          -0.52882        0.702\n",
      "            10          -0.51940        0.717\n",
      "            11          -0.51055        0.729\n",
      "            12          -0.50224        0.740\n",
      "            13          -0.49442        0.747\n",
      "            14          -0.48706        0.756\n",
      "            15          -0.48012        0.765\n",
      "            16          -0.47357        0.770\n",
      "            17          -0.46739        0.773\n",
      "            18          -0.46155        0.777\n",
      "            19          -0.45602        0.781\n",
      "         Final          -0.45078        0.783\n",
      "Testing classifier...\n",
      "Accuracy: 0.7780\n",
      "Avg. log likelihood: -0.7148\n",
      "\n",
      "Unseen Names      P(Male)  P(Female)\n",
      "----------------------------------------\n",
      "  Octavius        *0.6864   0.3136\n",
      "  Thomasina        0.2036  *0.7964\n",
      "  Barnett         *0.4815   0.5185\n",
      "  Angelina         0.0865  *0.9135\n",
      "  Saunders        *0.5745   0.4255\n"
     ]
    }
   ],
   "source": [
    "print \"Train loglinear classifier and run on some example input names:\"\n",
    "def mytrain(train_toks):\n",
    "    return MaxentClassifier.train(train_toks, max_iter=20)\n",
    "classifier = names_demo(mytrain)"
   ]
  },
  {
   "cell_type": "code",
   "execution_count": 9,
   "metadata": {
    "collapsed": false
   },
   "outputs": [
    {
     "name": "stdout",
     "output_type": "stream",
     "text": [
      "Train NaiveBayes classifier and run on some example input names:\n",
      "Training classifier...\n",
      "Testing classifier...\n",
      "Accuracy: 0.7580\n",
      "Avg. log likelihood: -0.7355\n",
      "\n",
      "Unseen Names      P(Male)  P(Female)\n",
      "----------------------------------------\n",
      "  Octavius        *0.9819   0.0181\n",
      "  Thomasina        0.0182  *0.9818\n",
      "  Barnett         *0.6642   0.3358\n",
      "  Angelina         0.0002  *0.9998\n",
      "  Saunders        *0.9017   0.0983\n"
     ]
    }
   ],
   "source": [
    "print \"Train NaiveBayes classifier and run on some example input names:\"\n",
    "naivebayes = names_demo(NaiveBayesClassifier.train)"
   ]
  },
  {
   "cell_type": "code",
   "execution_count": 3,
   "metadata": {
    "collapsed": false
   },
   "outputs": [
    {
     "name": "stdout",
     "output_type": "stream",
     "text": [
      "Run trained classifier on input name: luke\n",
      "P(male|luke)=0.413080109092\n",
      "P(female|luke)=0.586919890908\n",
      "  Feature                                           female    male\n",
      "  ----------------------------------------------------------------\n",
      "  has(u)==True (1)                                  -0.099\n",
      "  count(u)==1 (1)                                   -0.096\n",
      "  endswith==u'e' (1)                                 0.076\n",
      "  has(a)==False (1)                                 -0.050\n",
      "  count(a)==0 (1)                                   -0.050\n",
      "  startswith==u'l' (1)                               0.049\n",
      "  has(i)==False (1)                                 -0.034\n",
      "  count(i)==0 (1)                                   -0.034\n",
      "  has(l)==True (1)                                   0.031\n",
      "  count(l)==1 (1)                                    0.024\n",
      "  has(o)==False (1)                                  0.020\n",
      "  count(o)==0 (1)                                    0.020\n",
      "  has(e)==True (1)                                   0.018\n",
      "  has(r)==False (1)                                  0.017\n",
      "  count(r)==0 (1)                                    0.017\n",
      "  count(k)==1 (1)                                   -0.012\n",
      "  count(h)==0 (1)                                    0.012\n",
      "  has(h)==False (1)                                  0.012\n",
      "  count(w)==0 (1)                                    0.012\n",
      "  has(w)==False (1)                                  0.012\n",
      "  count(e)==1 (1)                                   -0.010\n",
      "  count(s)==0 (1)                                    0.010\n",
      "  has(s)==False (1)                                  0.010\n",
      "  count(n)==0 (1)                                   -0.010\n",
      "  has(n)==False (1)                                 -0.010\n",
      "  has(d)==False (1)                                  0.010\n",
      "  count(d)==0 (1)                                    0.010\n",
      "  has(k)==True (1)                                  -0.010\n",
      "  count(c)==0 (1)                                    0.009\n",
      "  has(c)==False (1)                                  0.009\n",
      "  has(g)==False (1)                                  0.009\n",
      "  count(g)==0 (1)                                    0.009\n",
      "  has(m)==False (1)                                  0.009\n",
      "  count(m)==0 (1)                                    0.009\n",
      "  count(t)==0 (1)                                    0.009\n",
      "  has(t)==False (1)                                  0.009\n",
      "  count(v)==0 (1)                                    0.009\n",
      "  has(v)==False (1)                                  0.009\n",
      "  count(p)==0 (1)                                    0.008\n",
      "  has(p)==False (1)                                  0.008\n",
      "  count(b)==0 (1)                                    0.007\n",
      "  has(b)==False (1)                                  0.007\n",
      "  has(f)==False (1)                                  0.007\n",
      "  count(f)==0 (1)                                    0.007\n",
      "  count(z)==0 (1)                                    0.006\n",
      "  has(z)==False (1)                                  0.006\n",
      "  count(x)==0 (1)                                    0.005\n",
      "  has(x)==False (1)                                  0.005\n",
      "  count(q)==0 (1)                                    0.005\n",
      "  has(q)==False (1)                                  0.005\n",
      "  alwayson==True (1)                                 0.005\n",
      "  has(j)==False (1)                                  0.004\n",
      "  count(j)==0 (1)                                    0.004\n",
      "  has(y)==False (1)                                 -0.001\n",
      "  count(y)==0 (1)                                   -0.001\n",
      "  endswith==u'e' (1)                                        -0.171\n",
      "  startswith==u'l' (1)                                      -0.109\n",
      "  has(u)==True (1)                                           0.107\n",
      "  count(u)==1 (1)                                            0.104\n",
      "  has(a)==False (1)                                          0.060\n",
      "  count(a)==0 (1)                                            0.060\n",
      "  has(l)==True (1)                                          -0.059\n",
      "  has(i)==False (1)                                          0.048\n",
      "  count(i)==0 (1)                                            0.048\n",
      "  count(l)==1 (1)                                           -0.042\n",
      "  has(o)==False (1)                                         -0.034\n",
      "  count(o)==0 (1)                                           -0.034\n",
      "  has(e)==True (1)                                          -0.029\n",
      "  has(r)==False (1)                                         -0.027\n",
      "  count(r)==0 (1)                                           -0.027\n",
      "  count(k)==1 (1)                                            0.022\n",
      "  count(h)==0 (1)                                           -0.019\n",
      "  has(h)==False (1)                                         -0.019\n",
      "  count(w)==0 (1)                                           -0.019\n",
      "  has(w)==False (1)                                         -0.019\n",
      "  count(e)==1 (1)                                            0.018\n",
      "  has(k)==True (1)                                           0.018\n",
      "  count(n)==0 (1)                                            0.017\n",
      "  has(n)==False (1)                                          0.017\n",
      "  count(s)==0 (1)                                           -0.015\n",
      "  has(s)==False (1)                                         -0.015\n",
      "  has(d)==False (1)                                         -0.014\n",
      "  count(d)==0 (1)                                           -0.014\n",
      "  count(c)==0 (1)                                           -0.013\n",
      "  has(c)==False (1)                                         -0.013\n",
      "  has(g)==False (1)                                         -0.013\n",
      "  count(g)==0 (1)                                           -0.013\n",
      "  has(m)==False (1)                                         -0.013\n",
      "  count(m)==0 (1)                                           -0.013\n",
      "  count(t)==0 (1)                                           -0.013\n",
      "  has(t)==False (1)                                         -0.013\n",
      "  count(v)==0 (1)                                           -0.012\n",
      "  has(v)==False (1)                                         -0.012\n",
      "  count(p)==0 (1)                                           -0.011\n",
      "  has(p)==False (1)                                         -0.011\n",
      "  count(b)==0 (1)                                           -0.010\n",
      "  has(b)==False (1)                                         -0.010\n",
      "  has(f)==False (1)                                         -0.010\n",
      "  count(f)==0 (1)                                           -0.010\n",
      "  count(z)==0 (1)                                           -0.008\n",
      "  has(z)==False (1)                                         -0.008\n",
      "  count(x)==0 (1)                                           -0.006\n",
      "  has(x)==False (1)                                         -0.006\n",
      "  count(q)==0 (1)                                           -0.006\n",
      "  has(q)==False (1)                                         -0.006\n",
      "  alwayson==True (1)                                        -0.005\n",
      "  has(j)==False (1)                                         -0.004\n",
      "  count(j)==0 (1)                                           -0.004\n",
      "  has(y)==False (1)                                          0.004\n",
      "  count(y)==0 (1)                                            0.004\n",
      "  -----------------------------------------------------------------\n",
      "  TOTAL:                                             0.123  -0.384\n",
      "  PROBS:                                             0.587   0.413\n"
     ]
    }
   ],
   "source": [
    "name='luke'\n",
    "print \"Run trained classifier on input name:\", name\n",
    "test_features = names_demo_features(name)\n",
    "output = classifier.prob_classify(test_features)\n",
    "print \"P(male|{0})={1}\".format(name,output.prob('male'))\n",
    "print \"P(female|{0})={1}\".format(name,output.prob('female'))\n",
    "classifier.explain(test_features)"
   ]
  },
  {
   "cell_type": "code",
   "execution_count": 4,
   "metadata": {
    "collapsed": false
   },
   "outputs": [
    {
     "name": "stdout",
     "output_type": "stream",
     "text": [
      "  -1.403 endswith==u'a' and label is 'male'\n",
      "  -1.185 endswith==u'k' and label is 'female'\n",
      "  -0.945 endswith==u'v' and label is 'female'\n",
      "  -0.882 endswith==u'p' and label is 'female'\n",
      "  -0.766 count(v)==2 and label is 'male'\n",
      "  -0.645 endswith==u'm' and label is 'female'\n",
      "  -0.571 endswith==u'o' and label is 'female'\n",
      "  -0.562 endswith==u'd' and label is 'female'\n",
      "  -0.542 endswith==u'r' and label is 'female'\n",
      "  -0.492 endswith==u'f' and label is 'female'\n"
     ]
    }
   ],
   "source": [
    "classifier.show_most_informative_features()"
   ]
  },
  {
   "cell_type": "markdown",
   "metadata": {},
   "source": [
    "## Loglinear Model for Prepositional Phrase Attachment"
   ]
  },
  {
   "cell_type": "code",
   "execution_count": 5,
   "metadata": {
    "collapsed": false
   },
   "outputs": [
    {
     "name": "stdout",
     "output_type": "stream",
     "text": [
      "PPAttachment(sent=u'9522', verb=u'pushing', noun1=u'prices', prep=u'of', noun2=u'potatoes', attachment=u'N')\n"
     ]
    }
   ],
   "source": [
    "from nltk.corpus import ppattach\n",
    "item = random.choice(ppattach.attachments('training'))\n",
    "print(item)"
   ]
  },
  {
   "cell_type": "code",
   "execution_count": 6,
   "metadata": {
    "collapsed": false
   },
   "outputs": [
    {
     "name": "stdout",
     "output_type": "stream",
     "text": [
      "Feature Type              Feature Value                 \n",
      "-------------------------------------------------------\n",
      "noun1+noun2               prices::potatoes              \n",
      "noun1+prep                prices::of                    \n",
      "verb+noun1+prep           pushing::prices::of           \n",
      "verb+noun1+prep+noun2     pushing::prices::of::potatoes \n",
      "verb+prep+noun2           pushing::of::potatoes         \n",
      "verb+prep                 pushing::of                   \n",
      "verb                      pushing                       \n",
      "noun1                     prices                        \n",
      "verb+noun1                pushing::prices               \n",
      "verb+noun2                pushing::potatoes             \n",
      "noun2                     potatoes                      \n",
      "prep+noun2                of::potatoes                  \n",
      "verb+noun1+noun2          pushing::prices::potatoes     \n",
      "noun1+prep+noun2          prices::of::potatoes          \n",
      "prep+noun1                of::prices                    \n",
      "prep                      of                            \n"
     ]
    }
   ],
   "source": [
    "from nltk.classify import accuracy\n",
    "\n",
    "def j(*args):\n",
    "    return '::'.join(list(args))\n",
    "\n",
    "def print_feats(feats):\n",
    "    width1, width2 = 25,30\n",
    "    print \"{:<{col1}} {:<{col2}}\".format('Feature Type','Feature Value',col1=width1,col2=width2)\n",
    "    print width1*\"-\" + width2*\"-\"\n",
    "    for k, v in feats.iteritems():\n",
    "        print \"{:<{col1}} {:<{col2}}\".format(k,v,col1=width1,col2=width2)\n",
    "\n",
    "# verb='join', noun1='board', prep='as', noun2='director'\n",
    "def ppattach_feature(item):\n",
    "    return {\n",
    "        'prep': item.prep,\n",
    "        'verb': item.verb,\n",
    "        'noun1': item.noun1,\n",
    "        'noun2': item.noun2,\n",
    "        'prep+noun1': j(item.prep, item.noun1),\n",
    "        'prep+noun2': j(item.prep, item.noun2),\n",
    "        'noun1+noun2': j(item.noun1, item.noun2),\n",
    "        'verb+noun1': j(item.verb, item.noun1),\n",
    "        'verb+noun2': j(item.verb, item.noun2),\n",
    "        'verb+prep': j(item.verb, item.prep),\n",
    "        'noun1+prep': j(item.noun1, item.prep),\n",
    "        'prep+noun2': j(item.prep, item.noun2),\n",
    "        'verb+noun1+noun2': j(item.verb, item.noun1, item.noun2),\n",
    "        'verb+prep+noun2': j(item.verb, item.prep, item.noun2),\n",
    "        'noun1+prep+noun2': j(item.noun1, item.prep, item.noun2),\n",
    "        'verb+noun1+prep': j(item.verb, item.noun1, item.prep),\n",
    "        'verb+noun1+prep+noun2': j(item.verb, item.noun1, item.prep, item.noun2),\n",
    "        }\n",
    "\n",
    "print_feats(ppattach_feature(item))"
   ]
  },
  {
   "cell_type": "code",
   "execution_count": 7,
   "metadata": {
    "collapsed": false
   },
   "outputs": [
    {
     "name": "stdout",
     "output_type": "stream",
     "text": [
      "starting to train classifier ...\n",
      "  ==> Training (10 iterations)\n",
      "\n",
      "      Iteration    Log Likelihood    Accuracy\n",
      "      ---------------------------------------\n",
      "             1          -0.69315        0.478\n",
      "             2          -0.29111        0.970\n",
      "             3          -0.20642        0.986\n",
      "             4          -0.16328        0.992\n",
      "             5          -0.13608        0.995\n",
      "             6          -0.11710        0.996\n",
      "             7          -0.10300        0.997\n",
      "             8          -0.09208        0.997\n",
      "             9          -0.08335        0.997\n",
      "         Final          -0.07621        0.997\n",
      "finished training classifier\n",
      "all:dev:0.842040\n",
      "all:test:0.840168\n"
     ]
    }
   ],
   "source": [
    "train_set = [ (ppattach_feature(item), item.attachment) for item in ppattach.attachments('training') ]\n",
    "dev_set = [ (ppattach_feature(item), item.attachment) for item in ppattach.attachments('devset') ]\n",
    "test_set = [ (ppattach_feature(item), item.attachment) for item in ppattach.attachments('test') ]\n",
    "print \"starting to train classifier ...\"\n",
    "maxent_classifier = MaxentClassifier.train(train_set, algorithm='IIS', max_iter=10, count_cutoff=5)\n",
    "print \"finished training classifier\"\n",
    "devacc = accuracy(maxent_classifier, dev_set)\n",
    "testacc = accuracy(maxent_classifier, test_set)\n",
    "print \"all:dev:%lf\" % (devacc)\n",
    "print \"all:test:%lf\" % (testacc)"
   ]
  },
  {
   "cell_type": "markdown",
   "metadata": {},
   "source": [
    "### Comparison with Naive Bayes"
   ]
  },
  {
   "cell_type": "code",
   "execution_count": 8,
   "metadata": {
    "collapsed": false
   },
   "outputs": [
    {
     "name": "stdout",
     "output_type": "stream",
     "text": [
      "starting to train classifier ...\n",
      "finished training classifier\n",
      "all:dev:0.837584\n",
      "all:test:0.837908\n"
     ]
    }
   ],
   "source": [
    "from nltk.classify import NaiveBayesClassifier\n",
    "print \"starting to train classifier ...\"\n",
    "nb_classifier = NaiveBayesClassifier.train(train_set)\n",
    "print \"finished training classifier\"\n",
    "devacc = accuracy(nb_classifier, dev_set)\n",
    "testacc = accuracy(nb_classifier, test_set)\n",
    "print \"all:dev:%lf\" % (devacc)\n",
    "print \"all:test:%lf\" % (testacc)\n"
   ]
  },
  {
   "cell_type": "markdown",
   "metadata": {},
   "source": [
    "### Learning Curves\n",
    "\n",
    "Train on increasing size of training data and track accuracy on the development set."
   ]
  },
  {
   "cell_type": "code",
   "execution_count": null,
   "metadata": {
    "collapsed": false
   },
   "outputs": [
    {
     "name": "stdout",
     "output_type": "stream",
     "text": [
      "starting to train classifier ...\n",
      "  ==> Training (5 iterations)\n",
      "\n",
      "      Iteration    Log Likelihood    Accuracy\n",
      "      ---------------------------------------\n",
      "             1          -0.69315        0.486\n",
      "             2          -0.28175        0.988\n",
      "             3          -0.20531        0.997\n",
      "             4          -0.16289        0.998\n",
      "         Final          -0.13537        0.999\n",
      "finished training classifier\n",
      "accuracy on dev set for training size 2000 = 0.782867\n",
      "starting to train classifier ...\n",
      "  ==> Training (5 iterations)\n",
      "\n",
      "      Iteration    Log Likelihood    Accuracy\n",
      "      ---------------------------------------\n",
      "             1          -0.69315        0.493\n",
      "             2          -0.27395        0.982\n",
      "             3          -0.19784        0.995\n",
      "             4          -0.15679        0.998\n",
      "         Final          -0.13035        0.998\n",
      "finished training classifier\n",
      "accuracy on dev set for training size 4000 = 0.796979\n",
      "starting to train classifier ...\n",
      "  ==> Training (5 iterations)\n",
      "\n",
      "      Iteration    Log Likelihood    Accuracy\n",
      "      ---------------------------------------\n",
      "             1          -0.69315        0.485\n",
      "             2          -0.27807        0.979\n",
      "             3          -0.19983        0.992\n",
      "             4          -0.15828        0.996\n",
      "         Final          -0.13166        0.998\n",
      "finished training classifier\n",
      "accuracy on dev set for training size 6000 = 0.820748\n",
      "starting to train classifier ...\n",
      "  ==> Training (5 iterations)\n",
      "\n",
      "      Iteration    Log Likelihood    Accuracy\n",
      "      ---------------------------------------\n",
      "             1          -0.69315        0.499\n",
      "             2          -0.28355        0.977\n"
     ]
    }
   ],
   "source": [
    "chunk_size = 2000 \n",
    "x_axis = []\n",
    "y_axis = []\n",
    "\n",
    "def training_run(data, iters):\n",
    "    print \"starting to train classifier ...\"\n",
    "    #classifier = NaiveBayesClassifier.train(train_slice)\n",
    "    classifier = MaxentClassifier.train(train_slice, algorithm='IIS', max_iter=iters, count_cutoff=5)\n",
    "    print \"finished training classifier\"\n",
    "    acc = accuracy(classifier, dev_set)\n",
    "    print \"accuracy on dev set for training size %d = %f\" % (slice, acc)\n",
    "    return acc\n",
    "    \n",
    "for slice in range(len(train_set)):\n",
    "    if slice > 0 and slice % chunk_size == 0:\n",
    "        train_slice = train_set[:slice]\n",
    "        acc = training_run(train_slice,5)\n",
    "        x_axis.append(slice)\n",
    "        y_axis.append(acc)\n",
    "\n",
    "acc = training_run(train_set,10)\n",
    "x_axis.append(len(train_set))\n",
    "y_axis.append(acc)\n",
    "\n",
    "plt.xlim( (1,len(train_set)) )\n",
    "plt.plot(x_axis, y_axis, label='Learning Curve')\n",
    "\n",
    "plt.xlabel(\"Training Size\")\n",
    "plt.ylabel(\"Accuracy\")\n",
    "plt.legend(loc='lower right')\n",
    "plt.show()"
   ]
  },
  {
   "cell_type": "markdown",
   "metadata": {},
   "source": [
    "### Increasing the number of iterations"
   ]
  },
  {
   "cell_type": "code",
   "execution_count": null,
   "metadata": {
    "collapsed": true
   },
   "outputs": [],
   "source": [
    "print \"starting to train classifier ...\"\n",
    "maxent_classifier = MaxentClassifier.train(train_set, algorithm='IIS', max_iter=100, count_cutoff=5)\n",
    "print \"finished training classifier\"\n",
    "devacc = accuracy(maxent_classifier, dev_set)\n",
    "testacc = accuracy(maxent_classifier, test_set)\n",
    "print \"all:dev:%lf\" % (devacc)\n",
    "print \"all:test:%lf\" % (testacc)"
   ]
  }
 ],
 "metadata": {
  "kernelspec": {
   "display_name": "Python 2",
   "language": "python",
   "name": "python2"
  },
  "language_info": {
   "codemirror_mode": {
    "name": "ipython",
    "version": 2
   },
   "file_extension": ".py",
   "mimetype": "text/x-python",
   "name": "python",
   "nbconvert_exporter": "python",
   "pygments_lexer": "ipython2",
   "version": "2.7.11"
  }
 },
 "nbformat": 4,
 "nbformat_minor": 0
}
