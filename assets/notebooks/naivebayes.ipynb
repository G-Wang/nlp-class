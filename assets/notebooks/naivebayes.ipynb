{
 "cells": [
  {
   "cell_type": "markdown",
   "metadata": {},
   "source": [
    "   # Naive Bayes NLTK Demo"
   ]
  },
  {
   "cell_type": "code",
   "execution_count": 12,
   "metadata": {
    "collapsed": false
   },
   "outputs": [
    {
     "name": "stdout",
     "output_type": "stream",
     "text": [
      "Features used to classify a name as male or female:\n",
      "{   'alwayson': True,\n",
      "    'count(a)': 1,\n",
      "    'count(b)': 0,\n",
      "    'count(c)': 0,\n",
      "    'count(d)': 0,\n",
      "    'count(e)': 0,\n",
      "    'count(f)': 0,\n",
      "    'count(g)': 0,\n",
      "    'count(h)': 0,\n",
      "    'count(i)': 0,\n",
      "    'count(j)': 0,\n",
      "    'count(k)': 0,\n",
      "    'count(l)': 0,\n",
      "    'count(m)': 0,\n",
      "    'count(n)': 1,\n",
      "    'count(o)': 2,\n",
      "    'count(p)': 1,\n",
      "    'count(q)': 0,\n",
      "    'count(r)': 0,\n",
      "    'count(s)': 0,\n",
      "    'count(t)': 0,\n",
      "    'count(u)': 0,\n",
      "    'count(v)': 0,\n",
      "    'count(w)': 0,\n",
      "    'count(x)': 0,\n",
      "    'count(y)': 0,\n",
      "    'count(z)': 0,\n",
      "    'endswith': 'p',\n",
      "    'has(a)': True,\n",
      "    'has(b)': False,\n",
      "    'has(c)': False,\n",
      "    'has(d)': False,\n",
      "    'has(e)': False,\n",
      "    'has(f)': False,\n",
      "    'has(g)': False,\n",
      "    'has(h)': False,\n",
      "    'has(i)': False,\n",
      "    'has(j)': False,\n",
      "    'has(k)': False,\n",
      "    'has(l)': False,\n",
      "    'has(m)': False,\n",
      "    'has(n)': True,\n",
      "    'has(o)': True,\n",
      "    'has(p)': True,\n",
      "    'has(q)': False,\n",
      "    'has(r)': False,\n",
      "    'has(s)': False,\n",
      "    'has(t)': False,\n",
      "    'has(u)': False,\n",
      "    'has(v)': False,\n",
      "    'has(w)': False,\n",
      "    'has(x)': False,\n",
      "    'has(y)': False,\n",
      "    'has(z)': False,\n",
      "    'startswith': 'a'}\n"
     ]
    }
   ],
   "source": [
    "import pprint\n",
    "from nltk.classify.naivebayes import NaiveBayesClassifier\n",
    "from nltk.classify.util import names_demo, names_demo_features\n",
    "\n",
    "print \"Features used to classify a name as male or female:\"\n",
    "pp = pprint.PrettyPrinter(indent=4)\n",
    "test_features = names_demo_features(\"Anoop\")\n",
    "pp.pprint(test_features)"
   ]
  },
  {
   "cell_type": "code",
   "execution_count": 20,
   "metadata": {
    "collapsed": false
   },
   "outputs": [
    {
     "name": "stdout",
     "output_type": "stream",
     "text": [
      "Train NaiveBayes classifier and run on some example input names:\n",
      "Training classifier...\n",
      "Testing classifier...\n",
      "Accuracy: 0.7580\n",
      "Avg. log likelihood: -0.7355\n",
      "\n",
      "Unseen Names      P(Male)  P(Female)\n",
      "----------------------------------------\n",
      "  Octavius        *0.9819   0.0181\n",
      "  Thomasina        0.0182  *0.9818\n",
      "  Barnett         *0.6642   0.3358\n",
      "  Angelina         0.0002  *0.9998\n",
      "  Saunders        *0.9017   0.0983\n",
      "\n",
      "Run trained classifier on an input name\n",
      "P(male|input)= 0.979379394636\n",
      "P(female|input)= 0.0206206053642\n"
     ]
    }
   ],
   "source": [
    "print \"Train NaiveBayes classifier and run on some example input names:\"\n",
    "classifier = names_demo(NaiveBayesClassifier.train)"
   ]
  },
  {
   "cell_type": "code",
   "execution_count": 24,
   "metadata": {
    "collapsed": false
   },
   "outputs": [
    {
     "name": "stdout",
     "output_type": "stream",
     "text": [
      "Run trained classifier on input name: Destructor\n",
      "P(male|Destructor)=0.998549603781\n",
      "P(female|Destructor)=0.00145039621911\n"
     ]
    }
   ],
   "source": [
    "name='Destructor'\n",
    "print \"Run trained classifier on input name:\", name\n",
    "test_features = names_demo_features(name)\n",
    "output = classifier.prob_classify(test_features)\n",
    "print \"P(male|{0})={1}\".format(name,output.prob('male'))\n",
    "print \"P(female|{0})={1}\".format(name,output.prob('female'))"
   ]
  },
  {
   "cell_type": "markdown",
   "metadata": {},
   "source": [
    "## Most informative features\n"
   ]
  },
  {
   "cell_type": "code",
   "execution_count": 25,
   "metadata": {
    "collapsed": false
   },
   "outputs": [
    {
     "name": "stdout",
     "output_type": "stream",
     "text": [
      "Most Informative Features\n",
      "                endswith = u'a'           female : male   =     38.9 : 1.0\n",
      "                endswith = u'k'             male : female =     31.8 : 1.0\n",
      "                endswith = u'v'             male : female =     16.2 : 1.0\n",
      "                endswith = u'p'             male : female =     13.9 : 1.0\n",
      "                endswith = u'm'             male : female =      9.9 : 1.0\n",
      "                endswith = u'o'             male : female =      9.1 : 1.0\n",
      "                endswith = u'd'             male : female =      8.9 : 1.0\n",
      "                endswith = u'r'             male : female =      8.5 : 1.0\n",
      "                endswith = u'f'             male : female =      7.0 : 1.0\n",
      "                endswith = u'w'             male : female =      7.0 : 1.0\n"
     ]
    }
   ],
   "source": [
    "classifier.show_most_informative_features()"
   ]
  }
 ],
 "metadata": {
  "kernelspec": {
   "display_name": "Python 2",
   "language": "python",
   "name": "python2"
  },
  "language_info": {
   "codemirror_mode": {
    "name": "ipython",
    "version": 2
   },
   "file_extension": ".py",
   "mimetype": "text/x-python",
   "name": "python",
   "nbconvert_exporter": "python",
   "pygments_lexer": "ipython2",
   "version": "2.7.11"
  }
 },
 "nbformat": 4,
 "nbformat_minor": 0
}
