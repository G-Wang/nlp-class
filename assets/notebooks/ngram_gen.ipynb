{
 "metadata": {
  "name": ""
 },
 "nbformat": 3,
 "nbformat_minor": 0,
 "worksheets": [
  {
   "cells": [
    {
     "cell_type": "code",
     "collapsed": false,
     "input": [
      "from nltk.corpus import gutenberg\n",
      "from nltk.model import *\n",
      "from nltk.probability import LidstoneProbDist\n",
      "import pprint\n",
      "import sys\n",
      "\n",
      "class NullDevice():\n",
      "    def write(self, s):\n",
      "        pass\n",
      "\n",
      "use_chars = True\n",
      "\n",
      "#sys.stderr = NullDevice()\n",
      "estimator = lambda fdist, bins: LidstoneProbDist(fdist, 0.2)\n",
      "\n",
      "t = None\n",
      "if use_chars:\n",
      "    t = [ [ c for c in ' '.join(sent) ] for sent in gutenberg.sents('carroll-alice.txt') ]\n",
      "else:\n",
      "    t = [ x for x in gutenberg.sents('carroll-alice.txt') ]\n",
      "\n",
      "def ngram_gen(n, t, len=100):\n",
      "    print \"\\n%d-gram model\\n---------------\\n\" % (n)\n",
      "    m = NgramModel(n, t, True, True, estimator)\n",
      "    print m.entropy(\"if you cannot mean what you say then at least say what you mean\".split())\n",
      "    sep = '' if use_chars else ' '\n",
      "    genstring = sep.join(m.generate(len))\n",
      "    print genstring\n",
      "    return genstring\n",
      "\n",
      "pprint.pprint(map(lambda n: ngram_gen(n, t), range(1,10)))\n"
     ],
     "language": "python",
     "metadata": {},
     "outputs": [
      {
       "output_type": "stream",
       "stream": "stdout",
       "text": [
        "\n",
        "1-gram model\n",
        "---------------\n",
        "\n",
        "19.504704566"
       ]
      },
      {
       "output_type": "stream",
       "stream": "stdout",
       "text": [
        "\n",
        "w...................................................................................................\n",
        "\n",
        "2-gram model\n",
        "---------------\n",
        "\n",
        "6.70259859903"
       ]
      },
      {
       "output_type": "stream",
       "stream": "stdout",
       "text": [
        "\n",
        "The anes sale lalyp outhir ney and it theadd aid mu g g - oug ( w usittend sh s HI veng tof seabulon\n",
        "\n",
        "3-gram model\n",
        "---------------\n",
        "\n",
        "6.66930649918"
       ]
      },
      {
       "output_type": "stream",
       "stream": "stdout",
       "text": [
        "\n",
        "In ?' coutim or s and you ,' Alich ithineench , any the , said it ' I to !' lice said gole de Gr\n",
        "\n",
        "4-gram model\n",
        "---------------\n",
        "\n",
        "6.63993111696"
       ]
      },
      {
       "output_type": "stream",
       "stream": "stdout",
       "text": [
        "\n",
        "'' What !\" \" HOW IT ' and the --'The courself ; ' StoryWho shalf .Alice in knew what \n",
        "\n",
        "5-gram model\n",
        "---------------\n",
        "\n",
        "6.6138196661"
       ]
      },
      {
       "output_type": "stream",
       "stream": "stdout",
       "text": [
        "\n",
        "'' Let use ,' though !' Then say into a dead the number the leave door , Was kind also invit\n",
        "\n",
        "6-gram model\n",
        "---------------\n"
       ]
      },
      {
       "output_type": "stream",
       "stream": "stdout",
       "text": [
        "\n",
        "6.59045678901"
       ]
      },
      {
       "output_type": "stream",
       "stream": "stdout",
       "text": [
        "\n",
        "Here !'-- so larger answered to the month is just asleep \" is they had just be ashamed together\n",
        "\n",
        "7-gram model\n",
        "---------------\n"
       ]
      },
      {
       "output_type": "stream",
       "stream": "stdout",
       "text": [
        "\n",
        "6.56943019964"
       ]
      },
      {
       "output_type": "stream",
       "stream": "stdout",
       "text": [
        "\n",
        "'Just the Dormouse - traps , and night and gloves : she found her eye was quite relief .\n",
        "\n",
        "8-gram model\n",
        "---------------\n"
       ]
      },
      {
       "output_type": "stream",
       "stream": "stdout",
       "text": [
        "\n",
        "6.55040614258"
       ]
      },
      {
       "output_type": "stream",
       "stream": "stdout",
       "text": [
        "\n",
        "' Well , of all he SAID was , that for this time she had the bread - knife .'' cried o\n",
        "\n",
        "9-gram model\n",
        "---------------\n"
       ]
      },
      {
       "output_type": "stream",
       "stream": "stdout",
       "text": [
        "\n",
        "6.53311154525"
       ]
      },
      {
       "output_type": "stream",
       "stream": "stdout",
       "text": [
        "\n",
        "' You must be the best plan .Will you , old fellow ?' At any rate he might appeared \n",
        "["
       ]
      },
      {
       "output_type": "stream",
       "stream": "stdout",
       "text": [
        "'w...................................................................................................',\n",
        " 'The anes sale lalyp outhir ney and it theadd aid mu g g - oug ( w usittend sh s HI veng tof seabulon',\n",
        " \"In ?' coutim or s and you ,' Alich ithineench , any the , said it ' I to !' lice said gole de Gr\",\n",
        " '\\'\\' What !\" \" HOW IT \\' and the --\\'The courself ; \\' StoryWho shalf .Alice in knew what ',\n",
        " \"'' Let use ,' though !' Then say into a dead the number the leave door , Was kind also invit\",\n",
        " 'Here !\\'-- so larger answered to the month is just asleep \" is they had just be ashamed together',\n",
        " \"'Just the Dormouse - traps , and night and gloves : she found her eye was quite relief .\",\n",
        " \"' Well , of all he SAID was , that for this time she had the bread - knife .'' cried o\",\n",
        " \"' You must be the best plan .Will you , old fellow ?' At any rate he might appeared \"]\n"
       ]
      }
     ],
     "prompt_number": 1
    },
    {
     "cell_type": "code",
     "collapsed": false,
     "input": [
      "from IPython.core.display import HTML\n",
      "\n",
      "\n",
      "def css_styling():\n",
      "    styles = open(\"../css/notebook.css\", \"r\").read()\n",
      "    return HTML(styles)\n",
      "css_styling()"
     ],
     "language": "python",
     "metadata": {},
     "outputs": [
      {
       "html": [
        "<style>\n",
        "    @font-face {\n",
        "        font-family: \"Computer Modern\";\n",
        "        src: url('http://9dbb143991406a7c655e-aa5fcb0a5a4ec34cff238a2d56ca4144.r56.cf5.rackcdn.com/cmunss.otf');\n",
        "    }\n",
        "    @font-face {\n",
        "        font-family: \"Computer Modern\";\n",
        "        font-weight: bold;\n",
        "        src: url('http://9dbb143991406a7c655e-aa5fcb0a5a4ec34cff238a2d56ca4144.r56.cf5.rackcdn.com/cmunsx.otf');\n",
        "    }\n",
        "    @font-face {\n",
        "        font-family: \"Computer Modern\";\n",
        "        font-style: oblique;\n",
        "        src: url('http://9dbb143991406a7c655e-aa5fcb0a5a4ec34cff238a2d56ca4144.r56.cf5.rackcdn.com/cmunsi.otf');\n",
        "    }\n",
        "    @font-face {\n",
        "        font-family: \"Computer Modern\";\n",
        "        font-weight: bold;\n",
        "        font-style: oblique;\n",
        "        src: url('http://9dbb143991406a7c655e-aa5fcb0a5a4ec34cff238a2d56ca4144.r56.cf5.rackcdn.com/cmunso.otf');\n",
        "    }\n",
        "    div.cell{\n",
        "        width:800px;\n",
        "        margin-left:16% !important;\n",
        "        margin-right:auto;\n",
        "    }\n",
        "    h1 {\n",
        "        font-family: Helvetica, serif;\n",
        "    }\n",
        "    h4{\n",
        "        margin-top:12px;\n",
        "        margin-bottom: 3px;\n",
        "       }\n",
        "    div.text_cell_render{\n",
        "        font-family: Computer Modern, \"Helvetica Neue\", Arial, Helvetica, Geneva, sans-serif;\n",
        "        line-height: 145%;\n",
        "        font-size: 130%;\n",
        "        width:800px;\n",
        "        margin-left:auto;\n",
        "        margin-right:auto;\n",
        "    }\n",
        "    .CodeMirror{\n",
        "            font-family: \"Source Code Pro\", source-code-pro,Consolas, monospace;\n",
        "    }\n",
        "    .prompt{\n",
        "        display: None;\n",
        "    }\n",
        "    .text_cell_render h5 {\n",
        "        font-weight: 300;\n",
        "        font-size: 22pt;\n",
        "        color: #4057A1;\n",
        "        font-style: italic;\n",
        "        margin-bottom: .5em;\n",
        "        margin-top: 0.5em;\n",
        "        display: block;\n",
        "    }\n",
        "    \n",
        "    .warning{\n",
        "        color: rgb( 240, 20, 20 )\n",
        "        }  \n",
        "</style>\n",
        "<script>\n",
        "    MathJax.Hub.Config({\n",
        "                        TeX: {\n",
        "                           extensions: [\"AMSmath.js\"]\n",
        "                           },\n",
        "                tex2jax: {\n",
        "                    inlineMath: [ ['$','$'], [\"\\\\(\",\"\\\\)\"] ],\n",
        "                    displayMath: [ ['$$','$$'], [\"\\\\[\",\"\\\\]\"] ]\n",
        "                },\n",
        "                displayAlign: 'center', // Change this to 'center' to center equations.\n",
        "                \"HTML-CSS\": {\n",
        "                    styles: {'.MathJax_Display': {\"margin\": 4}}\n",
        "                }\n",
        "        });\n",
        "</script>\n"
       ],
       "metadata": {},
       "output_type": "pyout",
       "prompt_number": 2,
       "text": [
        "<IPython.core.display.HTML at 0x1028d04d0>"
       ]
      }
     ],
     "prompt_number": 2
    },
    {
     "cell_type": "code",
     "collapsed": false,
     "input": [],
     "language": "python",
     "metadata": {},
     "outputs": [],
     "prompt_number": 2
    }
   ],
   "metadata": {}
  }
 ]
}