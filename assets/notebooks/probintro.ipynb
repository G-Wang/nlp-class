{
 "metadata": {
  "name": "",
  "signature": "sha256:f2325ccb98c326928239a1b2e579f837461b31611046495a3fc592088bd5af22"
 },
 "nbformat": 3,
 "nbformat_minor": 0,
 "worksheets": [
  {
   "cells": [
    {
     "cell_type": "heading",
     "level": 1,
     "metadata": {},
     "source": [
      "Introduction to Probability for NLP"
     ]
    },
    {
     "cell_type": "heading",
     "level": 2,
     "metadata": {},
     "source": [
      "Anoop Sarkar"
     ]
    },
    {
     "cell_type": "markdown",
     "metadata": {},
     "source": [
      "This notebook provides a brief, interactive guide to probability theory. It provides a gentle introduction to the concepts we will rely on to build models of uncertainty in natural language processing."
     ]
    },
    {
     "cell_type": "code",
     "collapsed": false,
     "input": [
      "%matplotlib inline"
     ],
     "language": "python",
     "metadata": {},
     "outputs": [],
     "prompt_number": 9
    },
    {
     "cell_type": "heading",
     "level": 2,
     "metadata": {},
     "source": [
      "NLTK as a data source"
     ]
    },
    {
     "cell_type": "markdown",
     "metadata": {},
     "source": [
      "We will use the [Python Natural Language Toolkit](http://nltk.org) as a source of data. \n",
      "First step, let us load up some text data from Lewis Carroll's \"Alice's Adventures in Wonderland\" and print out the first few words from the book. \n",
      "Notice that NLTK has already split up all the text in that book into tokens we can use."
     ]
    },
    {
     "cell_type": "code",
     "collapsed": false,
     "input": [
      "import nltk\n",
      "from itertools import islice\n",
      "# print the first few words from Lewis Carroll's \"Alice's Adventures in Wonderland\"\n",
      "# islice takes the first n elements from the iterator without building the whole list of words for the document\n",
      "print [w for w in islice(nltk.corpus.gutenberg.words('carroll-alice.txt'),85)]"
     ],
     "language": "python",
     "metadata": {},
     "outputs": [
      {
       "output_type": "stream",
       "stream": "stdout",
       "text": [
        "['[', 'Alice', \"'\", 's', 'Adventures', 'in', 'Wonderland', 'by', 'Lewis', 'Carroll', '1865', ']', 'CHAPTER', 'I', '.', 'Down', 'the', 'Rabbit', '-', 'Hole', 'Alice', 'was', 'beginning', 'to', 'get', 'very', 'tired', 'of', 'sitting', 'by', 'her', 'sister', 'on', 'the', 'bank', ',', 'and', 'of', 'having', 'nothing', 'to', 'do', ':', 'once', 'or', 'twice', 'she', 'had', 'peeped', 'into', 'the', 'book', 'her', 'sister', 'was', 'reading', ',', 'but', 'it', 'had', 'no', 'pictures', 'or', 'conversations', 'in', 'it', ',', \"'\", 'and', 'what', 'is', 'the', 'use', 'of', 'a', 'book', \",'\", 'thought', 'Alice', \"'\", 'without', 'pictures', 'or', 'conversation', \"?'\"]\n"
       ]
      }
     ],
     "prompt_number": 10
    },
    {
     "cell_type": "heading",
     "level": 2,
     "metadata": {},
     "source": [
      "Probability Distributions"
     ]
    },
    {
     "cell_type": "heading",
     "level": 3,
     "metadata": {},
     "source": [
      "Sampling without replacement"
     ]
    },
    {
     "cell_type": "markdown",
     "metadata": {},
     "source": [
      "For now, let us view the text as a bag of letters taken from the English alphabet. By a \"bag\" of letters, we mean that we take this book to consist of unordered letter tokens, and so the ordering or the sequence in which the letters occur is ignored for now.\n",
      "\n",
      "We can then take this view to mean that the book is a list of letters or characters, where the the same letter can occur multiple times in this list. To create a new sample, we simply choose a letter at random and add it to our sample. We do not remove the letter from our list, and repeatedly sample again and again until we reach a sample of a desired size.\n",
      "\n",
      "The function `new_sample` below produces a sample of a desired size `num`. If a letter appears more often in the original list of letters from which we are sampling, then that letter will appear more often in our sample."
     ]
    },
    {
     "cell_type": "heading",
     "level": 3,
     "metadata": {},
     "source": [
      "Creating a probability distribution from a sample"
     ]
    },
    {
     "cell_type": "markdown",
     "metadata": {},
     "source": [
      "A probability is a real number between zero and one. A probability distribution is created over a set where each element in the set has a probability and the sum over all elements in this set must sum to one. So if our set was called $S$ then this condition on the probability distribution $P$ over elements of set $S$ is written as $$ \\sum_{x \\in S} P(x) = 1.0 $$\n",
      "\n",
      "When we have a sample, we can count how many times each letter $c$ occured in the sample. Let us call this the frequency of $c$ or $f(c)$.\n",
      "\n",
      "For example, if we have a random sample of size 6: $eeaaei$ then $f(e) = 3$, $f(a) = 2$, $f(i) = 1$. Notice that $\\sum_{c} f(c) = f(e) + f(a) + f(i) = 6$ which is the sample size.\n",
      "\n",
      "We can create probability distribution over the set of letters (the alphabet) by simply summing over the number of times we observed a letter in the sample and dividing by the number of times we observed all the letters (which is the same as the size of the sample). If $f(c)$ is the count of letter $c$ then we can write down the probability of any letter $c$ as $$ P(c) = \\frac{f(c)}{\\sum_{c'} f(c')} $$\n",
      "\n",
      "As we just observed in the above example, $\\sum_{c'} f(c')$ is equal to the sample size.\n",
      "\n",
      "$P(c)$ is called the unigram letter probability."
     ]
    },
    {
     "cell_type": "code",
     "collapsed": false,
     "input": [
      "import random\n",
      "import nltk\n",
      "\n",
      "# sample letters from a document with replacement\n",
      "class lettersample:\n",
      "    \n",
      "    def __init__(self, num):\n",
      "        self.corpus = [c.lower() for sent in nltk.corpus.gutenberg.sents('carroll-alice.txt') for c in ''.join(sent)]\n",
      "        self.sample = [random.choice(self.corpus) for i in range(num)]\n",
      "\n",
      "    # __str__ creates a printable representation of the object\n",
      "    def __str__(self):\n",
      "        return ''.join(self.sample)"
     ],
     "language": "python",
     "metadata": {},
     "outputs": [],
     "prompt_number": 57
    },
    {
     "cell_type": "code",
     "collapsed": false,
     "input": [
      "from __future__ import division\n",
      "import numpy\n",
      "from matplotlib.font_manager import FontProperties\n",
      "import matplotlib.pyplot as plt\n",
      "import pylab\n",
      "from operator import itemgetter\n",
      "\n",
      "def sample_dist(fdist):\n",
      "    return [ (sample, fdist[sample]) for sample in fdist.samples() ]\n",
      "\n",
      "def vertical_bars(sample_dist):\n",
      "    samples = map(itemgetter(0), sample_dist)\n",
      "    freqs = map(itemgetter(1), sample_dist)\n",
      "    # samples = fdist.samples()\n",
      "    # freqs = [ fdist[sample] for sample in samples ]\n",
      "    labels = [str(s) for s in samples]\n",
      "    fig, ax1 = plt.subplots(figsize=(15, 10))\n",
      "    pos = numpy.arange(len(labels))\n",
      "    ax1.bar(pos, freqs, facecolor='#9999ff', edgecolor='white')\n",
      "    font = FontProperties()\n",
      "    font.set_size('large')\n",
      "    for x,y in zip(pos,freqs):\n",
      "        ax1.text(x+0.4, y+0.05, '%s' % labels[x], fontproperties=font, ha='center', va= 'bottom')\n",
      "    plt.tick_params(\\\n",
      "        axis='x',          # changes apply to the x-axis\n",
      "        which='both',      # both major and minor ticks are affected\n",
      "        bottom='off',      # ticks along the bottom edge are off\n",
      "        top='off',         # ticks along the top edge are off\n",
      "        labelbottom='off') # labels along the bottom edge are off\n",
      "    plt.show()"
     ],
     "language": "python",
     "metadata": {},
     "outputs": [],
     "prompt_number": 59
    },
    {
     "cell_type": "code",
     "collapsed": false,
     "input": [
      "sample1 = lettersample(100)\n",
      "print ''.join(sample1.sample[:100]) # print the first 100 chars"
     ],
     "language": "python",
     "metadata": {},
     "outputs": [
      {
       "output_type": "stream",
       "stream": "stdout",
       "text": [
        "eisomicuwcsinreoirengeesihhhaeblrthmheeanwytlcdu?tlhhnhawep,alenhtoi,acnda.o'dantliytktdowtl''atotsp\n"
       ]
      }
     ],
     "prompt_number": 63
    },
    {
     "cell_type": "code",
     "collapsed": false,
     "input": [
      "fdist1 = nltk.probability.FreqDist(sample1.sample)\n",
      "vertical_bars(sample_dist(fdist1))"
     ],
     "language": "python",
     "metadata": {},
     "outputs": [
      {
       "metadata": {},
       "output_type": "display_data",
       "png": "[encoded data removed]",
       "text": [
        "<matplotlib.figure.Figure at 0x109639810>"
       ]
      }
     ],
     "prompt_number": 64
    },
    {
     "cell_type": "code",
     "collapsed": false,
     "input": [
      "sample2 = lettersample(100000)\n",
      "print ''.join(sample2.sample[:100]) # print the first 100 chars"
     ],
     "language": "python",
     "metadata": {},
     "outputs": [
      {
       "output_type": "stream",
       "stream": "stdout",
       "text": [
        "u,lprrnuth,ftn'pn,tiaieofaeeohhe.tnulieonnlmlgochhreyjst'aheueimteertt'ios,nawieaist,aeluhwapseholow\n"
       ]
      }
     ],
     "prompt_number": 65
    },
    {
     "cell_type": "code",
     "collapsed": false,
     "input": [
      "fdist2 = nltk.probability.FreqDist(sample2.sample)\n",
      "vertical_bars(sample_dist(fdist2))"
     ],
     "language": "python",
     "metadata": {},
     "outputs": [
      {
       "metadata": {},
       "output_type": "display_data",
       "png": "[encoded data removed]",
       "text": [
        "<matplotlib.figure.Figure at 0x10887c810>"
       ]
      }
     ],
     "prompt_number": 66
    },
    {
     "cell_type": "code",
     "collapsed": false,
     "input": [
      "sample3 = lettersample(1000000)\n",
      "print ''.join(sample3.sample[:100]) # print the first 100 chars"
     ],
     "language": "python",
     "metadata": {},
     "outputs": [
      {
       "output_type": "stream",
       "stream": "stdout",
       "text": [
        "l!nfanrhtddilttweagpyleohsbetsrhfooeswaheiteu',ialagehiwexe,'rafrkshtlyoneabaeiilaexhr.v,.oagtteotey\n"
       ]
      }
     ],
     "prompt_number": 67
    },
    {
     "cell_type": "code",
     "collapsed": false,
     "input": [
      "fdist3 = nltk.probability.FreqDist(sample3.sample)\n",
      "vertical_bars(sample_dist(fdist3))"
     ],
     "language": "python",
     "metadata": {},
     "outputs": [
      {
       "metadata": {},
       "output_type": "display_data",
       "png": "[encoded data removed]",
       "text": [
        "<matplotlib.figure.Figure at 0x109604050>"
       ]
      }
     ],
     "prompt_number": 68
    },
    {
     "cell_type": "heading",
     "level": 2,
     "metadata": {},
     "source": [
      "Random Probability Distributions"
     ]
    },
    {
     "cell_type": "code",
     "collapsed": false,
     "input": [
      "import string\n",
      "import numpy\n",
      "# set up a random probability distribution over lowercase ASCII characters\n",
      "counts = [ numpy.random.random() for c in string.ascii_lowercase ]\n",
      "total = sum(counts)\n",
      "# the following is a dictionary comprehension\n",
      "probs = { c: (counts[i] / total) for (i,c) in enumerate(string.ascii_lowercase) }\n",
      "print probs['e']\n",
      "print probs['z']"
     ],
     "language": "python",
     "metadata": {},
     "outputs": [
      {
       "output_type": "stream",
       "stream": "stdout",
       "text": [
        "0.0485198364608\n",
        "0.0186517384934\n"
       ]
      }
     ],
     "prompt_number": 47
    },
    {
     "cell_type": "code",
     "collapsed": false,
     "input": [
      "from IPython.core.display import HTML\n",
      "\n",
      "\n",
      "def css_styling():\n",
      "    styles = open(\"../css/notebook.css\", \"r\").read()\n",
      "    return HTML(styles)\n",
      "css_styling()"
     ],
     "language": "python",
     "metadata": {},
     "outputs": [
      {
       "html": [
        "<style>\n",
        "    @font-face {\n",
        "        font-family: \"Computer Modern\";\n",
        "        src: url('http://9dbb143991406a7c655e-aa5fcb0a5a4ec34cff238a2d56ca4144.r56.cf5.rackcdn.com/cmunss.otf');\n",
        "    }\n",
        "    @font-face {\n",
        "        font-family: \"Computer Modern\";\n",
        "        font-weight: bold;\n",
        "        src: url('http://9dbb143991406a7c655e-aa5fcb0a5a4ec34cff238a2d56ca4144.r56.cf5.rackcdn.com/cmunsx.otf');\n",
        "    }\n",
        "    @font-face {\n",
        "        font-family: \"Computer Modern\";\n",
        "        font-style: oblique;\n",
        "        src: url('http://9dbb143991406a7c655e-aa5fcb0a5a4ec34cff238a2d56ca4144.r56.cf5.rackcdn.com/cmunsi.otf');\n",
        "    }\n",
        "    @font-face {\n",
        "        font-family: \"Computer Modern\";\n",
        "        font-weight: bold;\n",
        "        font-style: oblique;\n",
        "        src: url('http://9dbb143991406a7c655e-aa5fcb0a5a4ec34cff238a2d56ca4144.r56.cf5.rackcdn.com/cmunso.otf');\n",
        "    }\n",
        "    div.cell{\n",
        "        width:800px;\n",
        "        margin-left:16% !important;\n",
        "        margin-right:auto;\n",
        "    }\n",
        "    h1 {\n",
        "        font-family: Helvetica, serif;\n",
        "    }\n",
        "    h4{\n",
        "        margin-top:12px;\n",
        "        margin-bottom: 3px;\n",
        "       }\n",
        "    div.text_cell_render{\n",
        "        font-family: Computer Modern, \"Helvetica Neue\", Arial, Helvetica, Geneva, sans-serif;\n",
        "        line-height: 145%;\n",
        "        font-size: 130%;\n",
        "        width:800px;\n",
        "        margin-left:auto;\n",
        "        margin-right:auto;\n",
        "    }\n",
        "    .CodeMirror{\n",
        "            font-family: \"Source Code Pro\", source-code-pro,Consolas, monospace;\n",
        "    }\n",
        "    .prompt{\n",
        "        display: None;\n",
        "    }\n",
        "    .text_cell_render h5 {\n",
        "        font-weight: 300;\n",
        "        font-size: 22pt;\n",
        "        color: #4057A1;\n",
        "        font-style: italic;\n",
        "        margin-bottom: .5em;\n",
        "        margin-top: 0.5em;\n",
        "        display: block;\n",
        "    }\n",
        "    \n",
        "    .warning{\n",
        "        color: rgb( 240, 20, 20 )\n",
        "        }  \n",
        "</style>\n",
        "<script>\n",
        "    MathJax.Hub.Config({\n",
        "                        TeX: {\n",
        "                           extensions: [\"AMSmath.js\"]\n",
        "                           },\n",
        "                tex2jax: {\n",
        "                    inlineMath: [ ['$','$'], [\"\\\\(\",\"\\\\)\"] ],\n",
        "                    displayMath: [ ['$$','$$'], [\"\\\\[\",\"\\\\]\"] ]\n",
        "                },\n",
        "                displayAlign: 'center', // Change this to 'center' to center equations.\n",
        "                \"HTML-CSS\": {\n",
        "                    styles: {'.MathJax_Display': {\"margin\": 4}}\n",
        "                }\n",
        "        });\n",
        "</script>\n"
       ],
       "metadata": {},
       "output_type": "pyout",
       "prompt_number": 16,
       "text": [
        "<IPython.core.display.HTML at 0x108c4b7d0>"
       ]
      }
     ],
     "prompt_number": 16
    },
    {
     "cell_type": "code",
     "collapsed": false,
     "input": [
      "def horizontal_bars(fdist):\n",
      "    samples = fdist.samples()\n",
      "    freqs = [ fdist[sample] for sample in samples ]\n",
      "    labels = [\"'\" + str(s) + \"'\" for s in samples]\n",
      "    fig, ax1 = plt.subplots(figsize=(15, 10))\n",
      "    plt.subplots_adjust(left=0.115, right=0.88)\n",
      "    pos = numpy.arange(len(labels))+0.5    # Center bars on the Y-axis ticks\n",
      "    rects = ax1.barh(pos, freqs, align='center', height=0.5, color='m')\n",
      "    ax1.axis([0, fdist[fdist.max()], 0, len(labels)])\n",
      "    pylab.yticks(pos, labels)\n",
      "    plt.show()"
     ],
     "language": "python",
     "metadata": {},
     "outputs": []
    }
   ],
   "metadata": {}
  }
 ]
}