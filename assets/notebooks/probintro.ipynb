{
 "metadata": {
  "name": "",
  "signature": "sha256:5d276bc2a710b5cc14351d429c1dab67e1c0da78940f8a76b5308e1b277664b1"
 },
 "nbformat": 3,
 "nbformat_minor": 0,
 "worksheets": [
  {
   "cells": [
    {
     "cell_type": "heading",
     "level": 1,
     "metadata": {},
     "source": [
      "Probability Models for NLP"
     ]
    },
    {
     "cell_type": "heading",
     "level": 2,
     "metadata": {},
     "source": [
      "Anoop Sarkar"
     ]
    },
    {
     "cell_type": "markdown",
     "metadata": {},
     "source": [
      "This notebook provides a brief, interactive guide to probability theory. It provides an  introduction to the basic concepts we will rely on to build models of uncertainty in natural language processing."
     ]
    },
    {
     "cell_type": "code",
     "collapsed": false,
     "input": [
      "%matplotlib inline\n",
      "from __future__ import division\n",
      "import numpy\n",
      "import matplotlib\n",
      "import matplotlib.pyplot as plt\n",
      "import pylab\n",
      "import nltk\n",
      "import random\n",
      "import json\n",
      "from operator import itemgetter"
     ],
     "language": "python",
     "metadata": {},
     "outputs": [],
     "prompt_number": 115
    },
    {
     "cell_type": "heading",
     "level": 2,
     "metadata": {},
     "source": [
      "NLTK as a data source"
     ]
    },
    {
     "cell_type": "markdown",
     "metadata": {},
     "source": [
      "We will use the [Python Natural Language Toolkit](http://nltk.org) as a source of data. \n",
      "First step, let us load up some text data from Lewis Carroll's \"Alice's Adventures in Wonderland\" and print out the first few words from the book. \n",
      "Notice that NLTK has already split up all the text in that book into tokens we can use."
     ]
    },
    {
     "cell_type": "code",
     "collapsed": false,
     "input": [
      "from itertools import islice\n",
      "# print the first few words from Lewis Carroll's \"Alice's Adventures in Wonderland\"\n",
      "# islice takes the first n elements from the iterator without building the whole list of words for the document\n",
      "print [w for w in islice(nltk.corpus.gutenberg.words('carroll-alice.txt'),85)]"
     ],
     "language": "python",
     "metadata": {},
     "outputs": [
      {
       "output_type": "stream",
       "stream": "stdout",
       "text": [
        "['[', 'Alice', \"'\", 's', 'Adventures', 'in', 'Wonderland', 'by', 'Lewis', 'Carroll', '1865', ']', 'CHAPTER', 'I', '.', 'Down', 'the', 'Rabbit', '-', 'Hole', 'Alice', 'was', 'beginning', 'to', 'get', 'very', 'tired', 'of', 'sitting', 'by', 'her', 'sister', 'on', 'the', 'bank', ',', 'and', 'of', 'having', 'nothing', 'to', 'do', ':', 'once', 'or', 'twice', 'she', 'had', 'peeped', 'into', 'the', 'book', 'her', 'sister', 'was', 'reading', ',', 'but', 'it', 'had', 'no', 'pictures', 'or', 'conversations', 'in', 'it', ',', \"'\", 'and', 'what', 'is', 'the', 'use', 'of', 'a', 'book', \",'\", 'thought', 'Alice', \"'\", 'without', 'pictures', 'or', 'conversation', \"?'\"]\n"
       ]
      }
     ],
     "prompt_number": 116
    },
    {
     "cell_type": "heading",
     "level": 2,
     "metadata": {},
     "source": [
      "Probability Distributions"
     ]
    },
    {
     "cell_type": "heading",
     "level": 3,
     "metadata": {},
     "source": [
      "Sampling without replacement"
     ]
    },
    {
     "cell_type": "markdown",
     "metadata": {},
     "source": [
      "For now, let us view the text as a bag of letters taken from the English alphabet. By a \"bag\" of letters, we mean that we take this book to consist of unordered letter tokens, and so the ordering or the sequence in which the letters occur is ignored for now.\n",
      "\n",
      "To create a new sample, we simply choose a letter at random and add it to our sample. We do not remove the letter from our list because we are *sampling without replacement*, and repeatedly sample again and again until we reach a sample of a desired size."
     ]
    },
    {
     "cell_type": "markdown",
     "metadata": {},
     "source": [
      "The class `lettersample` below produces a sample of a desired size `num`. If a letter appears more often in the original list of letters from which we are sampling, then that letter will appear proportionally more often in our sample."
     ]
    },
    {
     "cell_type": "code",
     "collapsed": false,
     "input": [
      "# sample letters from a document with replacement\n",
      "class lettersample:\n",
      "    \n",
      "    def __init__(self, num):\n",
      "        self.corpus = [c.lower() for sent in nltk.corpus.gutenberg.sents('carroll-alice.txt') for c in ''.join(sent)]\n",
      "        self.sample = [random.choice(self.corpus) for i in range(num)]\n",
      "\n",
      "    # __str__ creates a printable representation of the object\n",
      "    def __str__(self):\n",
      "        return ''.join(self.sample)"
     ],
     "language": "python",
     "metadata": {},
     "outputs": [],
     "prompt_number": 117
    },
    {
     "cell_type": "code",
     "collapsed": false,
     "input": [
      "s = lettersample(6)\n",
      "print ''.join(s.sample) # print the sample"
     ],
     "language": "python",
     "metadata": {},
     "outputs": [
      {
       "output_type": "stream",
       "stream": "stdout",
       "text": [
        "rohesi\n"
       ]
      }
     ],
     "prompt_number": 118
    },
    {
     "cell_type": "heading",
     "level": 3,
     "metadata": {},
     "source": [
      "Creating a probability distribution from a sample"
     ]
    },
    {
     "cell_type": "markdown",
     "metadata": {},
     "source": [
      "When we have a sample, we can count how many times each letter $c$ occured in the sample. Let us call this the frequency of $c$ or $n(c)$.\n",
      "\n",
      "For example, if we have a random sample of size 6: $eeaaei$ then $n(e) = 3$, $n(a) = 2$, $n(i) = 1$. Notice that $\\sum_{c} n(c) = n(e) + n(a) + n(i) = 6$ which is the sample size."
     ]
    },
    {
     "cell_type": "code",
     "collapsed": false,
     "input": [
      "s = lettersample(6)\n",
      "n = defaultdict(int)\n",
      "for c in s.sample:\n",
      "    n[c] += 1\n",
      "print json.dumps(n, indent=4)\n",
      "print \"sample size:\", sum(n.values())"
     ],
     "language": "python",
     "metadata": {},
     "outputs": [
      {
       "output_type": "stream",
       "stream": "stdout",
       "text": [
        "{\n",
        "    \"a\": 2, \n",
        "    \"e\": 1, \n",
        "    \",\": 1, \n",
        "    \"o\": 1, \n",
        "    \"t\": 1\n",
        "}\n",
        "sample size: 6\n"
       ]
      }
     ],
     "prompt_number": 119
    },
    {
     "cell_type": "markdown",
     "metadata": {},
     "source": [
      "\n",
      "\n",
      "We can create probability distribution over the set of letters (the alphabet) by simply summing over the number of times we observed a letter in the sample and dividing by the number of times we observed all the letters (which is the same as the size of the sample). If $n(c)$ is the count of letter $c$ then we can write down the probability of any letter $c$ as \n",
      "\n",
      "$$ P(c) = \\frac{n(c)}{\\sum_{c'} n(c')} $$\n",
      "\n",
      "As we just observed in the above example, $\\sum_{c'} n(c')$ is equal to the sample size.\n",
      "\n",
      "$P(c)$ is called the unigram letter probability."
     ]
    },
    {
     "cell_type": "code",
     "collapsed": false,
     "input": [
      "total = sum(n.values())\n",
      "prob = { c: (n[c] / total) for c in n.keys() }\n",
      "print json.dumps(prob, indent=4)"
     ],
     "language": "python",
     "metadata": {},
     "outputs": [
      {
       "output_type": "stream",
       "stream": "stdout",
       "text": [
        "{\n",
        "    \"a\": 0.3333333333333333, \n",
        "    \"e\": 0.16666666666666666, \n",
        "    \",\": 0.16666666666666666, \n",
        "    \"o\": 0.16666666666666666, \n",
        "    \"t\": 0.16666666666666666\n",
        "}\n"
       ]
      }
     ],
     "prompt_number": 120
    },
    {
     "cell_type": "heading",
     "level": 3,
     "metadata": {},
     "source": [
      "Probability distribution"
     ]
    },
    {
     "cell_type": "markdown",
     "metadata": {},
     "source": [
      "A probability is a real number between zero and one. A probability distribution is created over a set where each element in the set has a probability and the sum over all elements in this set must sum to one. So if our set was called $S$ then this condition on the probability distribution $P$ over elements of set $S$ is written as $$ \\sum_{c \\in S} P(c) = 1.0 $$\n"
     ]
    },
    {
     "cell_type": "code",
     "collapsed": false,
     "input": [
      "print sum(prob.values())"
     ],
     "language": "python",
     "metadata": {},
     "outputs": [
      {
       "output_type": "stream",
       "stream": "stdout",
       "text": [
        "1.0\n"
       ]
      }
     ],
     "prompt_number": 121
    },
    {
     "cell_type": "heading",
     "level": 3,
     "metadata": {},
     "source": [
      "Finding the argmax"
     ]
    },
    {
     "cell_type": "markdown",
     "metadata": {},
     "source": [
      "Often we wish to compute the argmax using a probability distribution. The argmax function returns the element that has the highest probability. $$\\hat{c} = \\arg\\max_c P(c)$$"
     ]
    },
    {
     "cell_type": "code",
     "collapsed": false,
     "input": [
      "def P(c):\n",
      "    return prob[c]\n",
      "# the character with the highest probability is given by argmax_c P(c)\n",
      "argmax_char = max(n.keys(), key=P)\n",
      "print argmax_char, P(argmax_char)"
     ],
     "language": "python",
     "metadata": {},
     "outputs": [
      {
       "output_type": "stream",
       "stream": "stdout",
       "text": [
        "a 0.333333333333\n"
       ]
      }
     ],
     "prompt_number": 122
    },
    {
     "cell_type": "heading",
     "level": 3,
     "metadata": {},
     "source": [
      "Sample size and probability estimates"
     ]
    },
    {
     "cell_type": "markdown",
     "metadata": {},
     "source": [
      "We can observe that larger samples result in a more accurate measurement of the probability."
     ]
    },
    {
     "cell_type": "code",
     "collapsed": false,
     "input": [
      "def sample_dist(fdist):\n",
      "    return [ (sample, fdist[sample]) for sample in fdist.samples() ]\n",
      "\n",
      "def vertical_bars(sample_dist):\n",
      "    samples = map(itemgetter(0), sample_dist)\n",
      "    freqs = map(itemgetter(1), sample_dist)\n",
      "    # samples = fdist.samples()\n",
      "    # freqs = [ fdist[sample] for sample in samples ]\n",
      "    labels = [str(s) for s in samples]\n",
      "    fig, ax1 = plt.subplots(figsize=(15, 10))\n",
      "    pos = numpy.arange(len(labels))\n",
      "    ax1.bar(pos, freqs, facecolor='#9999ff', edgecolor='white')\n",
      "    font = matplotlib.font_manager.FontProperties()\n",
      "    font.set_size('x-large')\n",
      "    for x,y in zip(pos,freqs):\n",
      "        ax1.text(x+0.4, y+0.05, '%s' % labels[x], fontproperties=font, ha='center', va= 'bottom')\n",
      "    plt.tick_params(\\\n",
      "        axis='x',          # changes apply to the x-axis\n",
      "        which='both',      # both major and minor ticks are affected\n",
      "        bottom='off',      # ticks along the bottom edge are off\n",
      "        top='off',         # ticks along the top edge are off\n",
      "        labelbottom='off') # labels along the bottom edge are off\n",
      "    plt.show()"
     ],
     "language": "python",
     "metadata": {},
     "outputs": [],
     "prompt_number": 132
    },
    {
     "cell_type": "markdown",
     "metadata": {},
     "source": [
      "Let us plot the probability distribution over letters when the sample size is 100."
     ]
    },
    {
     "cell_type": "code",
     "collapsed": false,
     "input": [
      "sample1 = lettersample(100)\n",
      "print ''.join(sample1.sample[:100]) # print the first 100 chars"
     ],
     "language": "python",
     "metadata": {},
     "outputs": [
      {
       "output_type": "stream",
       "stream": "stdout",
       "text": [
        "fdlul'athnsoaresu'oressrsslsaewvonffecwlef'o-ahhtee.eiewmsbeosheiushrhfeeaxthhidesnsniadettoienooteu\n"
       ]
      }
     ],
     "prompt_number": 133
    },
    {
     "cell_type": "code",
     "collapsed": false,
     "input": [
      "fdist1 = nltk.probability.FreqDist(sample1.sample)\n",
      "vertical_bars(sample_dist(fdist1))"
     ],
     "language": "python",
     "metadata": {},
     "outputs": [
      {
       "metadata": {},
       "output_type": "display_data",
       "png": "[encoded data removed]",
       "text": [
        "<matplotlib.figure.Figure at 0x106f85fd0>"
       ]
      }
     ],
     "prompt_number": 134
    },
    {
     "cell_type": "markdown",
     "metadata": {},
     "source": [
      "Now let us take a larger sample of 100,000 characters. The plot of the probability distribution now shows a more accurate likelihood of each character in English."
     ]
    },
    {
     "cell_type": "code",
     "collapsed": false,
     "input": [
      "sample2 = lettersample(100000)\n",
      "print ''.join(sample2.sample[:100]) # print the first 100 chars"
     ],
     "language": "python",
     "metadata": {},
     "outputs": [
      {
       "output_type": "stream",
       "stream": "stdout",
       "text": [
        "erhdd'lyl'totkyhn!,hdin-kn'tnihslhmhmuetnttdltsagsoedeflail,erh'senugyuanbaobanlitdihlttoetotedesn:e\n"
       ]
      }
     ],
     "prompt_number": 135
    },
    {
     "cell_type": "code",
     "collapsed": false,
     "input": [
      "fdist2 = nltk.probability.FreqDist(sample2.sample)\n",
      "vertical_bars(sample_dist(fdist2))"
     ],
     "language": "python",
     "metadata": {},
     "outputs": [
      {
       "metadata": {},
       "output_type": "display_data",
       "png": "[encoded data removed]",
       "text": [
        "<matplotlib.figure.Figure at 0x1091add10>"
       ]
      }
     ],
     "prompt_number": 136
    },
    {
     "cell_type": "heading",
     "level": 2,
     "metadata": {},
     "source": [
      "Random Probability Distributions"
     ]
    },
    {
     "cell_type": "markdown",
     "metadata": {},
     "source": [
      "Now let us compare a character sample taken from a real English document with a totally random assignment of probabilities to English characters. The difference in the distribution is not just in the assignment of probabilities to individual characters, but the shape of the distribution is altogether different."
     ]
    },
    {
     "cell_type": "code",
     "collapsed": false,
     "input": [
      "import string\n",
      "import numpy\n",
      "# set up a random probability distribution over lowercase ASCII characters\n",
      "counts = [ 100*numpy.random.random() for c in string.ascii_lowercase ]\n",
      "sample_dist = [ (c, counts[i]) for (i,c) in enumerate(string.ascii_lowercase) ]\n",
      "vertical_bars(sorted(sample_dist, reverse=True, key=itemgetter(1)))"
     ],
     "language": "python",
     "metadata": {},
     "outputs": [
      {
       "metadata": {},
       "output_type": "display_data",
       "png": "[encoded data removed]",
       "text": [
        "<matplotlib.figure.Figure at 0x106f85bd0>"
       ]
      }
     ],
     "prompt_number": 139
    },
    {
     "cell_type": "code",
     "collapsed": false,
     "input": [
      "total = sum(counts)\n",
      "# the following is a dictionary comprehension\n",
      "prob = { c: (counts[i] / total) for (i,c) in enumerate(string.ascii_lowercase) }\n",
      "print prob['e']\n",
      "print prob['z']"
     ],
     "language": "python",
     "metadata": {},
     "outputs": [
      {
       "output_type": "stream",
       "stream": "stdout",
       "text": [
        "0.0713865656942\n",
        "0.0687892099288\n"
       ]
      }
     ],
     "prompt_number": 129
    },
    {
     "cell_type": "heading",
     "level": 3,
     "metadata": {},
     "source": [
      "The End"
     ]
    },
    {
     "cell_type": "code",
     "collapsed": false,
     "input": [
      "from IPython.core.display import HTML\n",
      "\n",
      "\n",
      "def css_styling():\n",
      "    styles = open(\"../css/notebook.css\", \"r\").read()\n",
      "    return HTML(styles)\n",
      "css_styling()"
     ],
     "language": "python",
     "metadata": {},
     "outputs": [
      {
       "html": [
        "<style>\n",
        "    @font-face {\n",
        "        font-family: \"Computer Modern\";\n",
        "        src: url('http://9dbb143991406a7c655e-aa5fcb0a5a4ec34cff238a2d56ca4144.r56.cf5.rackcdn.com/cmunss.otf');\n",
        "    }\n",
        "    @font-face {\n",
        "        font-family: \"Computer Modern\";\n",
        "        font-weight: bold;\n",
        "        src: url('http://9dbb143991406a7c655e-aa5fcb0a5a4ec34cff238a2d56ca4144.r56.cf5.rackcdn.com/cmunsx.otf');\n",
        "    }\n",
        "    @font-face {\n",
        "        font-family: \"Computer Modern\";\n",
        "        font-style: oblique;\n",
        "        src: url('http://9dbb143991406a7c655e-aa5fcb0a5a4ec34cff238a2d56ca4144.r56.cf5.rackcdn.com/cmunsi.otf');\n",
        "    }\n",
        "    @font-face {\n",
        "        font-family: \"Computer Modern\";\n",
        "        font-weight: bold;\n",
        "        font-style: oblique;\n",
        "        src: url('http://9dbb143991406a7c655e-aa5fcb0a5a4ec34cff238a2d56ca4144.r56.cf5.rackcdn.com/cmunso.otf');\n",
        "    }\n",
        "    div.cell{\n",
        "        width:800px;\n",
        "        margin-left:16% !important;\n",
        "        margin-right:auto;\n",
        "    }\n",
        "    h1 {\n",
        "        font-family: Helvetica, serif;\n",
        "    }\n",
        "    h4{\n",
        "        margin-top:12px;\n",
        "        margin-bottom: 3px;\n",
        "       }\n",
        "    div.text_cell_render{\n",
        "        font-family: Computer Modern, \"Helvetica Neue\", Arial, Helvetica, Geneva, sans-serif;\n",
        "        line-height: 145%;\n",
        "        font-size: 130%;\n",
        "        width:800px;\n",
        "        margin-left:auto;\n",
        "        margin-right:auto;\n",
        "    }\n",
        "    .CodeMirror{\n",
        "            font-family: \"Source Code Pro\", source-code-pro,Consolas, monospace;\n",
        "    }\n",
        "    .prompt{\n",
        "        display: None;\n",
        "    }\n",
        "    .text_cell_render h5 {\n",
        "        font-weight: 300;\n",
        "        font-size: 22pt;\n",
        "        color: #4057A1;\n",
        "        font-style: italic;\n",
        "        margin-bottom: .5em;\n",
        "        margin-top: 0.5em;\n",
        "        display: block;\n",
        "    }\n",
        "    \n",
        "    .warning{\n",
        "        color: rgb( 240, 20, 20 )\n",
        "        }  \n",
        "</style>\n",
        "<script>\n",
        "    MathJax.Hub.Config({\n",
        "                        TeX: {\n",
        "                           extensions: [\"AMSmath.js\"]\n",
        "                           },\n",
        "                tex2jax: {\n",
        "                    inlineMath: [ ['$','$'], [\"\\\\(\",\"\\\\)\"] ],\n",
        "                    displayMath: [ ['$$','$$'], [\"\\\\[\",\"\\\\]\"] ]\n",
        "                },\n",
        "                displayAlign: 'center', // Change this to 'center' to center equations.\n",
        "                \"HTML-CSS\": {\n",
        "                    styles: {'.MathJax_Display': {\"margin\": 4}}\n",
        "                }\n",
        "        });\n",
        "</script>\n"
       ],
       "metadata": {},
       "output_type": "pyout",
       "prompt_number": 130,
       "text": [
        "<IPython.core.display.HTML at 0x106f858d0>"
       ]
      }
     ],
     "prompt_number": 130
    },
    {
     "cell_type": "code",
     "collapsed": false,
     "input": [
      "def horizontal_bars(fdist):\n",
      "    samples = fdist.samples()\n",
      "    freqs = [ fdist[sample] for sample in samples ]\n",
      "    labels = [\"'\" + str(s) + \"'\" for s in samples]\n",
      "    fig, ax1 = plt.subplots(figsize=(15, 10))\n",
      "    plt.subplots_adjust(left=0.115, right=0.88)\n",
      "    pos = numpy.arange(len(labels))+0.5    # Center bars on the Y-axis ticks\n",
      "    rects = ax1.barh(pos, freqs, align='center', height=0.5, color='m')\n",
      "    ax1.axis([0, fdist[fdist.max()], 0, len(labels)])\n",
      "    pylab.yticks(pos, labels)\n",
      "    plt.show()"
     ],
     "language": "python",
     "metadata": {},
     "outputs": [],
     "prompt_number": 131
    }
   ],
   "metadata": {}
  }
 ]
}