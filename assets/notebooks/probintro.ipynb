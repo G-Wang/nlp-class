{
 "metadata": {
  "name": "",
  "signature": "sha256:5d276bc2a710b5cc14351d429c1dab67e1c0da78940f8a76b5308e1b277664b1"
 },
 "nbformat": 3,
 "nbformat_minor": 0,
 "worksheets": [
  {
   "cells": [
    {
     "cell_type": "heading",
     "level": 1,
     "metadata": {},
     "source": [
      "Probability Models for NLP"
     ]
    },
    {
     "cell_type": "heading",
     "level": 2,
     "metadata": {},
     "source": [
      "Anoop Sarkar"
     ]
    },
    {
     "cell_type": "markdown",
     "metadata": {},
     "source": [
      "This notebook provides a brief, interactive guide to probability theory. It provides an  introduction to the basic concepts we will rely on to build models of uncertainty in natural language processing."
     ]
    },
    {
     "cell_type": "code",
     "collapsed": false,
     "input": [
      "%matplotlib inline\n",
      "from __future__ import division\n",
      "import numpy\n",
      "import matplotlib\n",
      "import matplotlib.pyplot as plt\n",
      "import pylab\n",
      "import nltk\n",
      "import random\n",
      "import json\n",
      "from operator import itemgetter\n",
      "from collections import defaultdict"
     ],
     "language": "python",
     "metadata": {},
     "outputs": [],
     "prompt_number": 42
    },
    {
     "cell_type": "heading",
     "level": 2,
     "metadata": {},
     "source": [
      "NLTK as a data source"
     ]
    },
    {
     "cell_type": "markdown",
     "metadata": {},
     "source": [
      "We will use the [Python Natural Language Toolkit](http://nltk.org) as a source of data. \n",
      "First step, let us load up some text data from Lewis Carroll's \"Alice's Adventures in Wonderland\" and print out the first few words from the book. \n",
      "Notice that NLTK has already split up all the text in that book into tokens we can use."
     ]
    },
    {
     "cell_type": "code",
     "collapsed": false,
     "input": [
      "from itertools import islice\n",
      "# print the first few words from Lewis Carroll's \"Alice's Adventures in Wonderland\"\n",
      "# islice takes the first n elements from the iterator without building the whole list of words for the document\n",
      "print [w for w in islice(nltk.corpus.gutenberg.words('carroll-alice.txt'),85)]"
     ],
     "language": "python",
     "metadata": {},
     "outputs": [
      {
       "output_type": "stream",
       "stream": "stdout",
       "text": [
        "['[', 'Alice', \"'\", 's', 'Adventures', 'in', 'Wonderland', 'by', 'Lewis', 'Carroll', '1865', ']', 'CHAPTER', 'I', '.', 'Down', 'the', 'Rabbit', '-', 'Hole', 'Alice', 'was', 'beginning', 'to', 'get', 'very', 'tired', 'of', 'sitting', 'by', 'her', 'sister', 'on', 'the', 'bank', ',', 'and', 'of', 'having', 'nothing', 'to', 'do', ':', 'once', 'or', 'twice', 'she', 'had', 'peeped', 'into', 'the', 'book', 'her', 'sister', 'was', 'reading', ',', 'but', 'it', 'had', 'no', 'pictures', 'or', 'conversations', 'in', 'it', ',', \"'\", 'and', 'what', 'is', 'the', 'use', 'of', 'a', 'book', \",'\", 'thought', 'Alice', \"'\", 'without', 'pictures', 'or', 'conversation', \"?'\"]\n"
       ]
      }
     ],
     "prompt_number": 43
    },
    {
     "cell_type": "heading",
     "level": 2,
     "metadata": {},
     "source": [
      "Probability Distributions"
     ]
    },
    {
     "cell_type": "heading",
     "level": 3,
     "metadata": {},
     "source": [
      "Sampling without replacement"
     ]
    },
    {
     "cell_type": "markdown",
     "metadata": {},
     "source": [
      "For now, let us view the text as a bag of letters taken from the English alphabet. By a \"bag\" of letters, we mean that we take this book to consist of unordered letter tokens, and so the ordering or the sequence in which the letters occur is ignored for now.\n",
      "\n",
      "To create a new sample, we simply choose a letter at random and add it to our sample. We do not remove the letter from our list because we are *sampling without replacement*, and repeatedly sample again and again until we reach a sample of a desired size."
     ]
    },
    {
     "cell_type": "markdown",
     "metadata": {},
     "source": [
      "The class `lettersample` below produces a sample of a desired size `num`. If a letter appears more often in the original list of letters from which we are sampling, then that letter will appear proportionally more often in our sample."
     ]
    },
    {
     "cell_type": "code",
     "collapsed": false,
     "input": [
      "# sample letters from a document with replacement\n",
      "class lettersample:\n",
      "    \n",
      "    def __init__(self, num):\n",
      "        self.corpus = [c.lower() for sent in nltk.corpus.gutenberg.sents('carroll-alice.txt') for c in ''.join(sent)]\n",
      "        self.sample = [random.choice(self.corpus) for i in range(num)]\n",
      "\n",
      "    # __str__ creates a printable representation of the object\n",
      "    def __str__(self):\n",
      "        return ''.join(self.sample)"
     ],
     "language": "python",
     "metadata": {},
     "outputs": [],
     "prompt_number": 44
    },
    {
     "cell_type": "code",
     "collapsed": false,
     "input": [
      "s = lettersample(6)\n",
      "print ''.join(s.sample) # print the sample"
     ],
     "language": "python",
     "metadata": {},
     "outputs": [
      {
       "output_type": "stream",
       "stream": "stdout",
       "text": [
        "denelm\n"
       ]
      }
     ],
     "prompt_number": 45
    },
    {
     "cell_type": "heading",
     "level": 3,
     "metadata": {},
     "source": [
      "Creating a probability distribution from a sample"
     ]
    },
    {
     "cell_type": "markdown",
     "metadata": {},
     "source": [
      "When we have a sample, we can count how many times each letter $c$ occured in the sample. Let us call this the frequency of $c$ or $n(c)$.\n",
      "\n",
      "For example, if we have a random sample of size 6: $eeaaei$ then $n(e) = 3$, $n(a) = 2$, $n(i) = 1$. Notice that $\\sum_{c} n(c) = n(e) + n(a) + n(i) = 6$ which is the sample size."
     ]
    },
    {
     "cell_type": "code",
     "collapsed": false,
     "input": [
      "s = lettersample(6)\n",
      "n = defaultdict(int)\n",
      "for c in s.sample:\n",
      "    n[c] += 1\n",
      "print json.dumps(n, indent=4)\n",
      "print \"sample size:\", sum(n.values())"
     ],
     "language": "python",
     "metadata": {},
     "outputs": [
      {
       "output_type": "stream",
       "stream": "stdout",
       "text": [
        "{\n",
        "    \"r\": 1, \n",
        "    \"e\": 1, \n",
        "    \"t\": 2, \n",
        "    \"o\": 1, \n",
        "    \"'\": 1\n",
        "}\n",
        "sample size: 6\n"
       ]
      }
     ],
     "prompt_number": 46
    },
    {
     "cell_type": "markdown",
     "metadata": {},
     "source": [
      "\n",
      "\n",
      "We can create probability distribution over the set of letters (the alphabet) by simply summing over the number of times we observed a letter in the sample and dividing by the number of times we observed all the letters (which is the same as the size of the sample). If $n(c)$ is the count of letter $c$ then we can write down the probability of any letter $c$ as \n",
      "\n",
      "$$ P(c) = \\frac{n(c)}{\\sum_{c'} n(c')} $$\n",
      "\n",
      "As we just observed in the above example, $\\sum_{c'} n(c')$ is equal to the sample size.\n",
      "\n",
      "$P(c)$ is called the unigram letter probability."
     ]
    },
    {
     "cell_type": "code",
     "collapsed": false,
     "input": [
      "total = sum(n.values())\n",
      "prob = { c: (n[c] / total) for c in n.keys() }\n",
      "print json.dumps(prob, indent=4)"
     ],
     "language": "python",
     "metadata": {},
     "outputs": [
      {
       "output_type": "stream",
       "stream": "stdout",
       "text": [
        "{\n",
        "    \"r\": 0.16666666666666666, \n",
        "    \"e\": 0.16666666666666666, \n",
        "    \"t\": 0.3333333333333333, \n",
        "    \"o\": 0.16666666666666666, \n",
        "    \"'\": 0.16666666666666666\n",
        "}\n"
       ]
      }
     ],
     "prompt_number": 47
    },
    {
     "cell_type": "heading",
     "level": 3,
     "metadata": {},
     "source": [
      "Probability distribution"
     ]
    },
    {
     "cell_type": "markdown",
     "metadata": {},
     "source": [
      "A probability is a real number between zero and one. A probability distribution is created over a set where each element in the set has a probability and the sum over all elements in this set must sum to one. So if our set was called $S$ then this condition on the probability distribution $P$ over elements of set $S$ is written as \n",
      "\n",
      "$$ \\sum_{c \\in S} P(c) = 1.0 $$\n"
     ]
    },
    {
     "cell_type": "code",
     "collapsed": false,
     "input": [
      "print sum(prob.values())"
     ],
     "language": "python",
     "metadata": {},
     "outputs": [
      {
       "output_type": "stream",
       "stream": "stdout",
       "text": [
        "1.0\n"
       ]
      }
     ],
     "prompt_number": 48
    },
    {
     "cell_type": "markdown",
     "metadata": {},
     "source": [
      "* $S$ is the _sample space_\n",
      "* A random variable $X$ is a function from $S$ to disjoint subset of $S$\n",
      "\n",
      "For example:\n",
      "\n",
      "* $S = \\{ a, b, c, \\ldots z \\}$\n",
      "* $X(c) = c$ where $c \\in S$"
     ]
    },
    {
     "cell_type": "heading",
     "level": 3,
     "metadata": {},
     "source": [
      "Finding the argmax"
     ]
    },
    {
     "cell_type": "markdown",
     "metadata": {},
     "source": [
      "Often we wish to compute the argmax using a probability distribution. The argmax function returns the element that has the highest probability. $$\\hat{c} = \\arg\\max_c P(c)$$"
     ]
    },
    {
     "cell_type": "code",
     "collapsed": false,
     "input": [
      "def P(c):\n",
      "    return prob[c]\n",
      "# the character with the highest probability is given by argmax_c P(c)\n",
      "argmax_char = max(n.keys(), key=P)\n",
      "print argmax_char, P(argmax_char)"
     ],
     "language": "python",
     "metadata": {},
     "outputs": [
      {
       "output_type": "stream",
       "stream": "stdout",
       "text": [
        "t 0.333333333333\n"
       ]
      }
     ],
     "prompt_number": 49
    },
    {
     "cell_type": "heading",
     "level": 3,
     "metadata": {},
     "source": [
      "Sample size and probability estimates"
     ]
    },
    {
     "cell_type": "markdown",
     "metadata": {},
     "source": [
      "We can observe that larger samples result in a more accurate measurement of the probability."
     ]
    },
    {
     "cell_type": "code",
     "collapsed": false,
     "input": [
      "def sample_dist(fdist):\n",
      "    return [ (sample, fdist[sample]) for sample in fdist.samples() ]\n",
      "\n",
      "def vertical_bars(sample_dist):\n",
      "    samples = map(itemgetter(0), sample_dist)\n",
      "    freqs = map(itemgetter(1), sample_dist)\n",
      "    # samples = fdist.samples()\n",
      "    # freqs = [ fdist[sample] for sample in samples ]\n",
      "    labels = [str(s) for s in samples]\n",
      "    fig, ax1 = plt.subplots(figsize=(15, 10))\n",
      "    pos = numpy.arange(len(labels))\n",
      "    ax1.bar(pos, freqs, facecolor='#9999ff', edgecolor='white')\n",
      "    font = matplotlib.font_manager.FontProperties()\n",
      "    font.set_size('x-large')\n",
      "    for x,y in zip(pos,freqs):\n",
      "        ax1.text(x+0.4, y+0.05, '%s' % labels[x], fontproperties=font, ha='center', va= 'bottom')\n",
      "    plt.tick_params(\\\n",
      "        axis='x',          # changes apply to the x-axis\n",
      "        which='both',      # both major and minor ticks are affected\n",
      "        bottom='off',      # ticks along the bottom edge are off\n",
      "        top='off',         # ticks along the top edge are off\n",
      "        labelbottom='off') # labels along the bottom edge are off\n",
      "    plt.show()"
     ],
     "language": "python",
     "metadata": {},
     "outputs": [],
     "prompt_number": 50
    },
    {
     "cell_type": "markdown",
     "metadata": {},
     "source": [
      "Let us plot the probability distribution over letters when the sample size is 100."
     ]
    },
    {
     "cell_type": "code",
     "collapsed": false,
     "input": [
      "sample1 = lettersample(100)\n",
      "print ''.join(sample1.sample[:100]) # print the first 100 chars"
     ],
     "language": "python",
     "metadata": {},
     "outputs": [
      {
       "output_type": "stream",
       "stream": "stdout",
       "text": [
        "otinhasrteuvthohsndsne.ht,r,sadwitunbsnnsicloaenit,wgayseertukrhheehshchtc.iecuriatuldil?eehttdi.yod\n"
       ]
      }
     ],
     "prompt_number": 51
    },
    {
     "cell_type": "code",
     "collapsed": false,
     "input": [
      "fdist1 = nltk.probability.FreqDist(sample1.sample)\n",
      "vertical_bars(sample_dist(fdist1))"
     ],
     "language": "python",
     "metadata": {},
     "outputs": [
      {
       "metadata": {},
       "output_type": "display_data",
       "png": "[encoded data removed]",
       "text": [
        "<matplotlib.figure.Figure at 0x10987ef50>"
       ]
      }
     ],
     "prompt_number": 52
    },
    {
     "cell_type": "markdown",
     "metadata": {},
     "source": [
      "Now let us take a larger sample of 100,000 characters. The plot of the probability distribution now shows a more accurate likelihood of each character in English."
     ]
    },
    {
     "cell_type": "code",
     "collapsed": false,
     "input": [
      "sample2 = lettersample(100000)\n",
      "print ''.join(sample2.sample[:100]) # print the first 100 chars"
     ],
     "language": "python",
     "metadata": {},
     "outputs": [
      {
       "output_type": "stream",
       "stream": "stdout",
       "text": [
        "t-*te'ry!es't,dfoamnt:,ihnebewene,tyus'rpsgno,aaemngnndoweeonsylennecldaat'.tgi'aoyhoweefirtgcydrtee\n"
       ]
      }
     ],
     "prompt_number": 53
    },
    {
     "cell_type": "code",
     "collapsed": false,
     "input": [
      "fdist2 = nltk.probability.FreqDist(sample2.sample)\n",
      "vertical_bars(sample_dist(fdist2))"
     ],
     "language": "python",
     "metadata": {},
     "outputs": [
      {
       "metadata": {},
       "output_type": "display_data",
       "png": "[encoded data removed]",
       "text": [
        "<matplotlib.figure.Figure at 0x10875f610>"
       ]
      }
     ],
     "prompt_number": 54
    },
    {
     "cell_type": "heading",
     "level": 3,
     "metadata": {},
     "source": [
      "Random Probability Distributions"
     ]
    },
    {
     "cell_type": "markdown",
     "metadata": {},
     "source": [
      "Now let us compare a character sample taken from a real English document with a totally random assignment of probabilities to English characters. The difference in the distribution is not just in the assignment of probabilities to individual characters, but the shape of the distribution is altogether different."
     ]
    },
    {
     "cell_type": "code",
     "collapsed": false,
     "input": [
      "import string\n",
      "import numpy\n",
      "# set up a random probability distribution over lowercase ASCII characters\n",
      "counts = [ 100*numpy.random.random() for c in string.ascii_lowercase ]\n",
      "sample_dist = [ (c, counts[i]) for (i,c) in enumerate(string.ascii_lowercase) ]\n",
      "vertical_bars(sorted(sample_dist, reverse=True, key=itemgetter(1)))"
     ],
     "language": "python",
     "metadata": {},
     "outputs": [
      {
       "metadata": {},
       "output_type": "display_data",
       "png": "[encoded data removed]",
       "text": [
        "<matplotlib.figure.Figure at 0x1086d7e50>"
       ]
      }
     ],
     "prompt_number": 55
    },
    {
     "cell_type": "code",
     "collapsed": false,
     "input": [
      "total = sum(counts)\n",
      "# the following is a dictionary comprehension\n",
      "prob = { c: (counts[i] / total) for (i,c) in enumerate(string.ascii_lowercase) }\n",
      "print prob['e']\n",
      "print prob['z']"
     ],
     "language": "python",
     "metadata": {},
     "outputs": [
      {
       "output_type": "stream",
       "stream": "stdout",
       "text": [
        "0.000373667037247\n",
        "0.00807567149176\n"
       ]
      }
     ],
     "prompt_number": 56
    },
    {
     "cell_type": "heading",
     "level": 3,
     "metadata": {},
     "source": [
      "Joint Probability Distributions"
     ]
    },
    {
     "cell_type": "code",
     "collapsed": false,
     "input": [
      "# sample letter bigrams from a document with replacement\n",
      "class bigramsample:\n",
      "    \n",
      "    def __init__(self, num):\n",
      "        self.corpus = [c.lower() for sent in nltk.corpus.gutenberg.sents('carroll-alice.txt') for c in ''.join(sent)]\n",
      "        self.bigrams = [ tuple(self.corpus[i:i+2]) for i in range(len(self.corpus)-1) ]\n",
      "        self.sample = [random.choice(self.bigrams) for i in range(num)]\n",
      "\n",
      "    # __str__ creates a printable representation of the object\n",
      "    def __str__(self):\n",
      "        return ''.join(self.sample)"
     ],
     "language": "python",
     "metadata": {},
     "outputs": [],
     "prompt_number": 57
    },
    {
     "cell_type": "code",
     "collapsed": false,
     "input": [
      "b = bigramsample(100)\n",
      "print '\\n'.join([\"%c,%c\" % (x,y) for (x,y) in b.sample[:10] ]) # print the first 10 bigrams sampled"
     ],
     "language": "python",
     "metadata": {},
     "outputs": [
      {
       "output_type": "stream",
       "stream": "stdout",
       "text": [
        "t,h\n",
        "',d\n",
        "y,s\n",
        "d,i\n",
        "e,,\n",
        "a,s\n",
        "o,h\n",
        "t,s\n",
        "e,b\n",
        "o,v\n"
       ]
      }
     ],
     "prompt_number": 64
    },
    {
     "cell_type": "code",
     "collapsed": false,
     "input": [
      "s = bigramsample(100)\n",
      "n = defaultdict(int)\n",
      "for (x,y) in s.sample:\n",
      "    n[x,y] += 1\n",
      "for (x,y) in n.keys()[:10]: # print 10 items from the sample\n",
      "    print \"%c %c: %d\" % (x, y, n[x,y])\n",
      "print \"sample size:\", sum(n.values())"
     ],
     "language": "python",
     "metadata": {},
     "outputs": [
      {
       "output_type": "stream",
       "stream": "stdout",
       "text": [
        "d e: 1.000000\n",
        "g s: 1.000000\n",
        "l l: 2.000000\n",
        "s a: 2.000000\n",
        "e f: 1.000000\n",
        "y d: 1.000000\n",
        "l e: 1.000000\n",
        "- -: 1.000000\n",
        "r e: 3.000000\n",
        "a s: 1.000000\n",
        "sample size: 100\n"
       ]
      }
     ],
     "prompt_number": 86
    },
    {
     "cell_type": "markdown",
     "metadata": {},
     "source": [
      "* Sample space $S = \\{ a, b, c, \\ldots, z \\}^2$\n",
      "* Random variable $X(x,y) = x$ and $Y(x,y) = y$"
     ]
    },
    {
     "cell_type": "code",
     "collapsed": false,
     "input": [
      "total = sum(n.values())\n",
      "prob = { (x,y): (n[x,y] / total) for (x,y) in n.keys() }\n",
      "for (x,y) in prob.keys()[:10]: # print 10 probabilities\n",
      "    print \"%c %c: %f\" % (x, y, prob[x,y])"
     ],
     "language": "python",
     "metadata": {},
     "outputs": [
      {
       "output_type": "stream",
       "stream": "stdout",
       "text": [
        "d e: 0.010000\n",
        "g s: 0.010000\n",
        "l l: 0.020000\n",
        "d h: 0.010000\n",
        "e d: 0.010000\n",
        "p p: 0.010000\n",
        "l e: 0.010000\n",
        "- -: 0.010000\n",
        "r e: 0.030000\n",
        "a s: 0.010000\n"
       ]
      }
     ],
     "prompt_number": 88
    },
    {
     "cell_type": "heading",
     "level": 3,
     "metadata": {},
     "source": [
      "Finding the argmax of a joint probability"
     ]
    },
    {
     "cell_type": "markdown",
     "metadata": {},
     "source": [
      "The argmax of a joint probability distribution is the values for the joint random variables that returns the highest _joint_ probability. \n",
      "$$\\hat{x},\\hat{y} = \\arg\\max_{x,y} P(X=x,Y=y)$$\n",
      "Which can be written as:\n",
      "$$\\hat{x},\\hat{y} = \\arg\\max_{x,y} P(x,y)$$"
     ]
    },
    {
     "cell_type": "code",
     "collapsed": false,
     "input": [
      "def P(key):\n",
      "    (x,y) = key\n",
      "    return prob[x,y]\n",
      "# the character with the highest probability is given by argmax_{x,y} P(x,y)\n",
      "(argmax_x, argmax_y) = max(n.keys(), key=P)\n",
      "print \"%c %c: %f\" % (argmax_x, argmax_y, P((argmax_x,argmax_y)))"
     ],
     "language": "python",
     "metadata": {},
     "outputs": [
      {
       "output_type": "stream",
       "stream": "stdout",
       "text": [
        "n d: 0.040000\n"
       ]
      }
     ],
     "prompt_number": 92
    },
    {
     "cell_type": "heading",
     "level": 3,
     "metadata": {},
     "source": [
      "Marginal Probability"
     ]
    },
    {
     "cell_type": "markdown",
     "metadata": {},
     "source": [
      "A probability distribution over a subset of variables is a _marginal probability_. We can find the probability value of a particular second character by summing over or _marginalizing out_ the first character probabilities.\n",
      "$$ P(Y=d) = \\sum_{x \\in X} P(X=x, Y=d) $$"
     ]
    },
    {
     "cell_type": "code",
     "collapsed": false,
     "input": [
      "marginal = { (x,y) : prob[x,y] for (x,y) in prob.keys() if y == argmax_y }\n",
      "print marginal\n",
      "print \"P(Y=%c)=%f\" % (argmax_y, sum(marginal.values()))"
     ],
     "language": "python",
     "metadata": {},
     "outputs": [
      {
       "output_type": "stream",
       "stream": "stdout",
       "text": [
        "{('e', 'd'): 0.01, ('n', 'd'): 0.04, ('y', 'd'): 0.01, ('l', 'd'): 0.01}\n",
        "P(Y=d)=0.070000\n"
       ]
      }
     ],
     "prompt_number": 94
    },
    {
     "cell_type": "heading",
     "level": 3,
     "metadata": {},
     "source": [
      "The End"
     ]
    },
    {
     "cell_type": "code",
     "collapsed": false,
     "input": [
      "from IPython.core.display import HTML\n",
      "\n",
      "\n",
      "def css_styling():\n",
      "    styles = open(\"../css/notebook.css\", \"r\").read()\n",
      "    return HTML(styles)\n",
      "css_styling()"
     ],
     "language": "python",
     "metadata": {},
     "outputs": [
      {
       "html": [
        "<style>\n",
        "    @font-face {\n",
        "        font-family: \"Computer Modern\";\n",
        "        src: url('http://9dbb143991406a7c655e-aa5fcb0a5a4ec34cff238a2d56ca4144.r56.cf5.rackcdn.com/cmunss.otf');\n",
        "    }\n",
        "    @font-face {\n",
        "        font-family: \"Computer Modern\";\n",
        "        font-weight: bold;\n",
        "        src: url('http://9dbb143991406a7c655e-aa5fcb0a5a4ec34cff238a2d56ca4144.r56.cf5.rackcdn.com/cmunsx.otf');\n",
        "    }\n",
        "    @font-face {\n",
        "        font-family: \"Computer Modern\";\n",
        "        font-style: oblique;\n",
        "        src: url('http://9dbb143991406a7c655e-aa5fcb0a5a4ec34cff238a2d56ca4144.r56.cf5.rackcdn.com/cmunsi.otf');\n",
        "    }\n",
        "    @font-face {\n",
        "        font-family: \"Computer Modern\";\n",
        "        font-weight: bold;\n",
        "        font-style: oblique;\n",
        "        src: url('http://9dbb143991406a7c655e-aa5fcb0a5a4ec34cff238a2d56ca4144.r56.cf5.rackcdn.com/cmunso.otf');\n",
        "    }\n",
        "    div.cell{\n",
        "        width:800px;\n",
        "        margin-left:16% !important;\n",
        "        margin-right:auto;\n",
        "    }\n",
        "    h1 {\n",
        "        font-family: Helvetica, serif;\n",
        "    }\n",
        "    h4{\n",
        "        margin-top:12px;\n",
        "        margin-bottom: 3px;\n",
        "       }\n",
        "    div.text_cell_render{\n",
        "        font-family: Computer Modern, \"Helvetica Neue\", Arial, Helvetica, Geneva, sans-serif;\n",
        "        line-height: 145%;\n",
        "        font-size: 130%;\n",
        "        width:800px;\n",
        "        margin-left:auto;\n",
        "        margin-right:auto;\n",
        "    }\n",
        "    .CodeMirror{\n",
        "            font-family: \"Source Code Pro\", source-code-pro,Consolas, monospace;\n",
        "    }\n",
        "    .prompt{\n",
        "        display: None;\n",
        "    }\n",
        "    .text_cell_render h5 {\n",
        "        font-weight: 300;\n",
        "        font-size: 22pt;\n",
        "        color: #4057A1;\n",
        "        font-style: italic;\n",
        "        margin-bottom: .5em;\n",
        "        margin-top: 0.5em;\n",
        "        display: block;\n",
        "    }\n",
        "    \n",
        "    .warning{\n",
        "        color: rgb( 240, 20, 20 )\n",
        "        }  \n",
        "</style>\n",
        "<script>\n",
        "    MathJax.Hub.Config({\n",
        "                        TeX: {\n",
        "                           extensions: [\"AMSmath.js\"]\n",
        "                           },\n",
        "                tex2jax: {\n",
        "                    inlineMath: [ ['$','$'], [\"\\\\(\",\"\\\\)\"] ],\n",
        "                    displayMath: [ ['$$','$$'], [\"\\\\[\",\"\\\\]\"] ]\n",
        "                },\n",
        "                displayAlign: 'center', // Change this to 'center' to center equations.\n",
        "                \"HTML-CSS\": {\n",
        "                    styles: {'.MathJax_Display': {\"margin\": 4}}\n",
        "                }\n",
        "        });\n",
        "</script>\n"
       ],
       "metadata": {},
       "output_type": "pyout",
       "prompt_number": 59,
       "text": [
        "<IPython.core.display.HTML at 0x109588dd0>"
       ]
      }
     ],
     "prompt_number": 59
    },
    {
     "cell_type": "code",
     "collapsed": false,
     "input": [
      "def horizontal_bars(fdist):\n",
      "    samples = fdist.samples()\n",
      "    freqs = [ fdist[sample] for sample in samples ]\n",
      "    labels = [\"'\" + str(s) + \"'\" for s in samples]\n",
      "    fig, ax1 = plt.subplots(figsize=(15, 10))\n",
      "    plt.subplots_adjust(left=0.115, right=0.88)\n",
      "    pos = numpy.arange(len(labels))+0.5    # Center bars on the Y-axis ticks\n",
      "    rects = ax1.barh(pos, freqs, align='center', height=0.5, color='m')\n",
      "    ax1.axis([0, fdist[fdist.max()], 0, len(labels)])\n",
      "    pylab.yticks(pos, labels)\n",
      "    plt.show()"
     ],
     "language": "python",
     "metadata": {},
     "outputs": [],
     "prompt_number": 60
    },
    {
     "cell_type": "code",
     "collapsed": false,
     "input": [],
     "language": "python",
     "metadata": {},
     "outputs": [],
     "prompt_number": 60
    }
   ],
   "metadata": {}
  }
 ]
}