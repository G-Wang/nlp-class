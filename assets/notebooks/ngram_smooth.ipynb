{
 "cells": [
  {
   "cell_type": "code",
   "execution_count": 77,
   "metadata": {
    "collapsed": false
   },
   "outputs": [
    {
     "name": "stdout",
     "output_type": "stream",
     "text": [
      "{\n",
      "    \"0\": 0, \n",
      "    \"1\": 1, \n",
      "    \"3\": 1, \n",
      "    \"4\": 1, \n",
      "    \"5\": 1\n",
      "}\n",
      "0.384615384615\n"
     ]
    },
    {
     "data": {
      "image/png": "[encoded data removed]",
      "text/plain": [
       "<matplotlib.figure.Figure at 0x126959390>"
      ]
     },
     "metadata": {},
     "output_type": "display_data"
    }
   ],
   "source": [
    "%matplotlib inline\n",
    "\n",
    "from nltk import corpus\n",
    "from nltk.probability import FreqDist, SimpleGoodTuringProbDist\n",
    "from itertools import chain, islice\n",
    "\n",
    "def print_3col(value1, value2, value3):\n",
    "    width1, width2, width3 = 25,25,25\n",
    "    print \"{:<{col1}} {:<{col2}} {:<{col3}}\".format(value1,value2,value3,col1=width1,col2=width2,col3=width3)\n",
    "\n",
    "class SortedDisplayDict(dict):\n",
    "    def __str__(self):\n",
    "        return \"\\n\".join(\"%r: %r\" % (key, self[key]) for key in sorted(self))\n",
    "\n",
    "sents = [\"killer clown\", \"killer killer\", \"crazy problem\", \"crazy clown\", \"crazy killer\", \"clown crazy killer\"]\n",
    "data = [i for s in sents for i in s.split()]\n",
    "fd = FreqDist(data)\n",
    "print json.dumps(fd.r_Nr(), indent=4)\n",
    "print fd.freq(\"killer\")\n",
    "fd.plot()"
   ]
  },
  {
   "cell_type": "code",
   "execution_count": 117,
   "metadata": {
    "collapsed": false
   },
   "outputs": [
    {
     "data": {
      "image/png": "[encoded data removed]",
      "text/plain": [
       "<matplotlib.figure.Figure at 0x124730c10>"
      ]
     },
     "metadata": {},
     "output_type": "display_data"
    },
    {
     "name": "stdout",
     "output_type": "stream",
     "text": [
      "  , and  of the   . her   a had  in was \n",
      " 69  38  37  30  28  28  23  20  19  19 \n",
      "Some words have frequency zero:\n",
      "zombie: 0.0\n",
      "0: 0\n",
      "1: 288\n",
      "2: 57\n",
      "3: 18\n",
      "4: 11\n",
      "5: 4\n",
      "6: 8\n",
      "7: 9\n",
      "8: 2\n",
      "10: 1\n",
      "14: 1\n",
      "18: 1\n",
      "19: 2\n",
      "20: 1\n",
      "23: 1\n",
      "28: 2\n",
      "30: 1\n",
      "37: 1\n",
      "38: 1\n",
      "69: 1\n",
      "Max r value: 70\n",
      "Some words that occur only once in the data:\n",
      "comparatively\n",
      "ceased\n",
      "sleep\n",
      "children\n",
      "seemed\n",
      "devoted\n",
      "vex\n",
      "woman\n",
      "wished\n",
      "difference\n"
     ]
    }
   ],
   "source": [
    "emma_words = islice(corpus.gutenberg.words('austen-emma.txt'), 1000)\n",
    "fd = FreqDist(emma_words)\n",
    "fd.plot(30)\n",
    "fd.tabulate(10)\n",
    "\n",
    "print \"Some words have frequency zero:\"\n",
    "print \"zombie:\", fd.freq('zombie')\n",
    "\n",
    "r_Nr = fd.r_Nr()\n",
    "print SortedDisplayDict(r_Nr)\n",
    "max_r = max(r_Nr.keys(), key=int)+1\n",
    "print \"Max r value:\", max_r\n",
    "\n",
    "print \"Some words that occur only once in the data:\"\n",
    "h = fd.hapaxes()\n",
    "print \"\\n\".join(h[:10])"
   ]
  },
  {
   "cell_type": "code",
   "execution_count": 120,
   "metadata": {
    "collapsed": false
   },
   "outputs": [
    {
     "name": "stdout",
     "output_type": "stream",
     "text": [
      "0.474827842107\n",
      "1                         288                       182.635402673            \n",
      "2                         57                        44.9822774355            \n",
      "3                         18                        19.8182953633            \n",
      "4                         11                        11.0789324176            \n",
      "5                         4                         7.05652127023            \n",
      "6                         8                         4.88115692402            \n",
      "7                         9                         3.57426955255            \n",
      "8                         2                         2.72869117599            \n",
      "9                         0                         2.15054050505            \n",
      "10                        1                         1.73798941969            \n",
      "11                        0                         1.4334094028             \n",
      "12                        0                         1.20220697493            \n",
      "13                        0                         1.0226012757             \n",
      "14                        1                         0.880326499071           \n",
      "15                        0                         0.76572351649            \n",
      "16                        0                         0.672064351805           \n",
      "17                        0                         0.594546619243           \n",
      "18                        1                         0.529668444445           \n",
      "19                        2                         0.474827842107           \n",
      "20                        1                         0.428058969466           \n",
      "21                        0                         0.387854318842           \n",
      "22                        0                         0.353042282557           \n",
      "23                        1                         0.322701229911           \n",
      "24                        0                         0.296098165467           \n",
      "25                        0                         0.272644250284           \n",
      "26                        0                         0.251862090352           \n",
      "27                        0                         0.233361365299           \n",
      "28                        2                         0.216820453403           \n",
      "29                        0                         0.201972424678           \n",
      "30                        1                         0.188594254747           \n",
      "31                        0                         0.176498440309           \n",
      "32                        0                         0.165526424148           \n",
      "33                        0                         0.155543396874           \n",
      "34                        0                         0.146434155611           \n",
      "35                        0                         0.13809978106            \n",
      "36                        0                         0.130454953246           \n",
      "37                        1                         0.123425769449           \n",
      "38                        1                         0.116947959788           \n",
      "39                        0                         0.11096541976            \n",
      "40                        0                         0.105428997015           \n",
      "41                        0                         0.100295483254           \n",
      "42                        0                         0.0955267725716          \n",
      "43                        0                         0.0910891555667          \n",
      "44                        0                         0.086952724762           \n",
      "45                        0                         0.0830908717273          \n",
      "46                        0                         0.0794798600936          \n",
      "47                        0                         0.0760984616489          \n",
      "48                        0                         0.0729276450909          \n",
      "49                        0                         0.0699503089064          \n",
      "50                        0                         0.0671510513731          \n",
      "51                        0                         0.0645159719032          \n",
      "52                        0                         0.0620324989452          \n",
      "53                        0                         0.0596892404606          \n",
      "54                        0                         0.0574758536569          \n",
      "55                        0                         0.0553829311939          \n",
      "56                        0                         0.0534019015256          \n",
      "57                        0                         0.0515249414069          \n",
      "58                        0                         0.049744898898           \n",
      "59                        0                         0.0480552254506          \n",
      "60                        0                         0.0464499158739          \n",
      "61                        0                         0.0449234551521          \n",
      "62                        0                         0.0434707712343          \n",
      "63                        0                         0.0420871930426          \n",
      "64                        0                         0.0407684130511          \n",
      "65                        0                         0.0395104538733          \n",
      "66                        0                         0.038309638378           \n",
      "67                        0                         0.0371625629118          \n",
      "68                        0                         0.0360660732657          \n",
      "69                        1                         0.0350172430692          \n",
      "70                        0                         0.0340133543361          \n",
      "              word freqency  SimpleGoodTuring\n",
      "                 ,       69    6.373644e-02\n",
      "               and       38    3.468821e-02\n",
      "                of       37    3.375147e-02\n",
      "               the       30    2.719546e-02\n",
      "                 .       28    2.532282e-02\n",
      "               her       28    2.532282e-02\n",
      "                 a       23    2.064280e-02\n",
      "               had       20    1.783637e-02\n",
      "                in       19    1.690128e-02\n",
      "               was       19    1.690128e-02\n",
      "\n",
      "              word freqency  SimpleGoodTuring\n",
      "     comparatively        1    4.617519e-04\n",
      "            ceased        1    4.617519e-04\n",
      "             sleep        1    4.617519e-04\n",
      "          children        1    4.617519e-04\n",
      "            seemed        1    4.617519e-04\n",
      "           devoted        1    4.617519e-04\n",
      "               vex        1    4.617519e-04\n",
      "             woman        1    4.617519e-04\n",
      "            wished        1    4.617519e-04\n",
      "        difference        1    4.617519e-04\n"
     ]
    }
   ],
   "source": [
    "sgt = SimpleGoodTuringProbDist(fd)\n",
    "\n",
    "print sgt.smoothedNr(19)\n",
    "for r in range(1,max_r+1):\n",
    "    print_3col(r, r_Nr[r], sgt.smoothedNr(r))\n",
    "\n",
    "fd_keys_sorted=(key for key, value in sorted(fd.items(), key=lambda item: item[1], reverse=True))\n",
    "fd_keys_rev_sorted=(key for key, value in sorted(fd.items(), key=lambda item: item[1], reverse=False))\n",
    "\n",
    "print('%18s %8s  %14s' % (\"word\", \"freqency\", \"SimpleGoodTuring\"))\n",
    "for key in islice(fd_keys_sorted, 10):\n",
    "    print('%18s %8d  %14e' % (key, fd[key], sgt.prob(key)))\n",
    "\n",
    "print\n",
    "\n",
    "print('%18s %8s  %14s' % (\"word\", \"freqency\", \"SimpleGoodTuring\"))    \n",
    "for key in islice(fd_keys_rev_sorted, 10):\n",
    "    print('%18s %8d  %14e' % (key, fd[key], sgt.prob(key)))"
   ]
  },
  {
   "cell_type": "code",
   "execution_count": null,
   "metadata": {
    "collapsed": true
   },
   "outputs": [],
   "source": []
  }
 ],
 "metadata": {
  "kernelspec": {
   "display_name": "Python 2",
   "language": "python",
   "name": "python2"
  },
  "language_info": {
   "codemirror_mode": {
    "name": "ipython",
    "version": 2
   },
   "file_extension": ".py",
   "mimetype": "text/x-python",
   "name": "python",
   "nbconvert_exporter": "python",
   "pygments_lexer": "ipython2",
   "version": "2.7.11"
  }
 },
 "nbformat": 4,
 "nbformat_minor": 0
}
