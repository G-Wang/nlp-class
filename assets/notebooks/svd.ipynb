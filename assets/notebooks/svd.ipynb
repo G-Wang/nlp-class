{
 "metadata": {
  "name": "",
  "signature": "sha256:54b4620d2871794b25232aa5b5b780dde76ffbd2945d545165a683b323254309"
 },
 "nbformat": 3,
 "nbformat_minor": 0,
 "worksheets": [
  {
   "cells": [
    {
     "cell_type": "heading",
     "level": 1,
     "metadata": {},
     "source": [
      "Singular Value Decomposition in NLP"
     ]
    },
    {
     "cell_type": "heading",
     "level": 2,
     "metadata": {},
     "source": [
      "Vectors"
     ]
    },
    {
     "cell_type": "markdown",
     "metadata": {},
     "source": [
      "An n-dimensional vector is a sequence of n numbers. For a vector $x$ the component $x_i$ represents the value of $x$ on the $i^{th}$ dimension."
     ]
    },
    {
     "cell_type": "code",
     "collapsed": false,
     "input": [
      "import numpy as np\n",
      "x = np.random.randint(-5,5,5)\n",
      "x"
     ],
     "language": "python",
     "metadata": {},
     "outputs": [
      {
       "metadata": {},
       "output_type": "pyout",
       "prompt_number": 118,
       "text": [
        "array([-2, -4,  4, -2,  3])"
       ]
      }
     ],
     "prompt_number": 118
    },
    {
     "cell_type": "heading",
     "level": 3,
     "metadata": {},
     "source": [
      "Length of a vector"
     ]
    },
    {
     "cell_type": "markdown",
     "metadata": {},
     "source": [
      "The length of a vector $x$ is denoted by $|x|$\n",
      "$$|x| = \\sqrt{\\sum_{i=1}^n x_i^2}$$"
     ]
    },
    {
     "cell_type": "code",
     "collapsed": false,
     "input": [
      "np.linalg.norm(x)"
     ],
     "language": "python",
     "metadata": {},
     "outputs": [
      {
       "metadata": {},
       "output_type": "pyout",
       "prompt_number": 119,
       "text": [
        "7.0"
       ]
      }
     ],
     "prompt_number": 119
    },
    {
     "cell_type": "heading",
     "level": 3,
     "metadata": {},
     "source": [
      "Addition of vectors"
     ]
    },
    {
     "cell_type": "markdown",
     "metadata": {},
     "source": [
      "Vectors $x$ and $y$ can be added together one component at a time:\n",
      "$$ x+y = \\sum_i x_i + y_i $$"
     ]
    },
    {
     "cell_type": "code",
     "collapsed": false,
     "input": [
      "x = np.random.randint(-5,5,5)\n",
      "y = np.random.randint(-5,5,5)\n",
      "print x, '+', y, '=', x + y"
     ],
     "language": "python",
     "metadata": {},
     "outputs": [
      {
       "output_type": "stream",
       "stream": "stdout",
       "text": [
        "[-4 -2  2 -3 -5] + [-1 -1 -4  4  4] = [-5 -3 -2  1 -1]\n"
       ]
      }
     ],
     "prompt_number": 120
    },
    {
     "cell_type": "heading",
     "level": 3,
     "metadata": {},
     "source": [
      "Inner product of two vectors"
     ]
    },
    {
     "cell_type": "markdown",
     "metadata": {},
     "source": [
      "The inner product or dot product of two vectors $x$ and $y$ is:\n",
      "$$ x \\cdot y = \\sum_i x_i y_i $$"
     ]
    },
    {
     "cell_type": "code",
     "collapsed": false,
     "input": [
      "print x, '.', y, '=', np.inner(x,y)"
     ],
     "language": "python",
     "metadata": {},
     "outputs": [
      {
       "output_type": "stream",
       "stream": "stdout",
       "text": [
        "[-4 -2  2 -3 -5] . [-1 -1 -4  4  4] = -34\n"
       ]
      }
     ],
     "prompt_number": 121
    },
    {
     "cell_type": "heading",
     "level": 3,
     "metadata": {},
     "source": [
      "Othogonality"
     ]
    },
    {
     "cell_type": "markdown",
     "metadata": {},
     "source": [
      "Two vectors are orthogonal if their inner product is zero."
     ]
    },
    {
     "cell_type": "code",
     "collapsed": false,
     "input": [
      "x = np.array([2,1,-2,4])\n",
      "y = np.array([3,-6,4,2])\n",
      "np.inner(x,y)"
     ],
     "language": "python",
     "metadata": {},
     "outputs": [
      {
       "metadata": {},
       "output_type": "pyout",
       "prompt_number": 122,
       "text": [
        "0"
       ]
      }
     ],
     "prompt_number": 122
    },
    {
     "cell_type": "heading",
     "level": 3,
     "metadata": {},
     "source": [
      "Normal vector"
     ]
    },
    {
     "cell_type": "markdown",
     "metadata": {},
     "source": [
      "A normal vector is a vector length 1. Any vector can be normalized by dividing each element of the vector with the norm of the vector."
     ]
    },
    {
     "cell_type": "code",
     "collapsed": false,
     "input": [
      "x = np.array([2,4,1,2])\n",
      "xnorm = np.linalg.norm(x)\n",
      "print 'norm of x:', xnorm\n",
      "y = x / xnorm\n",
      "ynorm = np.linalg.norm(y)\n",
      "print 'normalized vector:', y\n",
      "print 'norm of normalized vector:', ynorm"
     ],
     "language": "python",
     "metadata": {},
     "outputs": [
      {
       "output_type": "stream",
       "stream": "stdout",
       "text": [
        "norm of x: 5.0\n",
        "normalized vector: [ 0.4  0.8  0.2  0.4]\n",
        "norm of normalized vector: 1.0\n"
       ]
      }
     ],
     "prompt_number": 130
    },
    {
     "cell_type": "heading",
     "level": 3,
     "metadata": {},
     "source": [
      "Orthonormal vectors"
     ]
    },
    {
     "cell_type": "markdown",
     "metadata": {},
     "source": [
      "Vectors of unit length that are orthogonal to each other are said to be orthonormal."
     ]
    },
    {
     "cell_type": "code",
     "collapsed": false,
     "input": [
      "import math\n",
      "x = np.array([2./5, 1./5, -2./5, 4./5])\n",
      "print \"x:\", x\n",
      "z = math.sqrt(65.)\n",
      "y = np.array([3./z, -6./z, 4./z, 2./z])\n",
      "print \"y:\", y\n",
      "print \"x and y are orthornomal. x . y = \", np.inner(x,y)"
     ],
     "language": "python",
     "metadata": {},
     "outputs": [
      {
       "output_type": "stream",
       "stream": "stdout",
       "text": [
        " x: [ 0.4  0.2 -0.4  0.8]\n",
        "y: [ 0.3721042  -0.74420841  0.49613894  0.24806947]\n",
        "x and y are orthornomal. x . y =  0.0\n"
       ]
      }
     ],
     "prompt_number": 140
    },
    {
     "cell_type": "heading",
     "level": 2,
     "metadata": {},
     "source": [
      "Matrices"
     ]
    },
    {
     "cell_type": "heading",
     "level": 3,
     "metadata": {},
     "source": [
      "Gram-Schmidt Orthonormalization"
     ]
    },
    {
     "cell_type": "markdown",
     "metadata": {},
     "source": [
      "GS takes column vectors of a matrix and converts it into orthonormal column vectors."
     ]
    },
    {
     "cell_type": "heading",
     "level": 3,
     "metadata": {},
     "source": [
      "Orthogonal Matrices"
     ]
    },
    {
     "cell_type": "markdown",
     "metadata": {},
     "source": [
      "A matrix $A$ is orthogonal if $A A^T = A^T A = I$ where $I$ is the identity matrix ($AI = A$ for all $A$)."
     ]
    },
    {
     "cell_type": "code",
     "collapsed": false,
     "input": [
      "aflat = np.array([1,0,0,0,3./5,-4./5,0,4./5,3./5])\n",
      "A = aflat.reshape(3,3)\n",
      "print A"
     ],
     "language": "python",
     "metadata": {},
     "outputs": [
      {
       "output_type": "stream",
       "stream": "stdout",
       "text": [
        "[[ 1.   0.   0. ]\n",
        " [ 0.   0.6 -0.8]\n",
        " [ 0.   0.8  0.6]]\n"
       ]
      }
     ],
     "prompt_number": 147
    },
    {
     "cell_type": "markdown",
     "metadata": {},
     "source": [
      "$A$ is orthogonal because:"
     ]
    },
    {
     "cell_type": "code",
     "collapsed": false,
     "input": [
      "print \"A:\\n\", A\n",
      "print \"A^T:\\n\", A.transpose()\n",
      "print \"A . A^T:\\n\", np.dot(A, A.transpose())"
     ],
     "language": "python",
     "metadata": {},
     "outputs": [
      {
       "output_type": "stream",
       "stream": "stdout",
       "text": [
        "A:\n",
        "[[ 1.   0.   0. ]\n",
        " [ 0.   0.6 -0.8]\n",
        " [ 0.   0.8  0.6]]\n",
        "A^T:\n",
        "[[ 1.   0.   0. ]\n",
        " [ 0.   0.6  0.8]\n",
        " [ 0.  -0.8  0.6]]\n",
        "A . A^T:\n",
        "[[ 1.  0.  0.]\n",
        " [ 0.  1.  0.]\n",
        " [ 0.  0.  1.]]\n"
       ]
      }
     ],
     "prompt_number": 151
    },
    {
     "cell_type": "heading",
     "level": 2,
     "metadata": {},
     "source": [
      "Singular Value Decomposition"
     ]
    },
    {
     "cell_type": "markdown",
     "metadata": {},
     "source": [
      "We will use a term-document matrix from the classic paper by [Deerwester et al][Deerwester] on the use of SVD for document classification.\n",
      "\n",
      "[Deerwester]: http://citeseer.ist.psu.edu/viewdoc/summary?doi=10.1.1.108.8490 \"Scott Deerwester, Susan T. Dumais, George W. Furnas, Thomas K. Landauer, Richard Harshman. 1990. Indexing by Latent Semantic Analysis. Journal of the American Society of Information Science. 41(6):391--407.\""
     ]
    },
    {
     "cell_type": "code",
     "collapsed": false,
     "input": [
      "import pandas as pd\n",
      "\n",
      "cols = ['Title']\n",
      "ids = ['doc'+str(i) for i in xrange(9)]\n",
      "docs = pd.DataFrame([['Human machine interface for Lab ABC computer applications'],\n",
      "                     ['A survey of user opinion of computer system response time'],\n",
      "                     ['The EPS user interface management system'],\n",
      "                     ['System and human system engineering testing of EPS'],\n",
      "                     ['Relation of user-perceived response time to error measurement'],\n",
      "                     ['The generation of random, binary, unordered trees'],\n",
      "                     ['The intersection graph of paths in trees'],\n",
      "                     ['Graph minors IV: Widths of trees and well-quasi-ordering'],\n",
      "                     ['Graph minors: A survey']],\n",
      "                    index=ids,\n",
      "                    columns=cols)\n",
      "docs.index.names = ['DocID:']\n",
      "pd.set_option('display.max_colwidth', 100)\n",
      "docs"
     ],
     "language": "python",
     "metadata": {},
     "outputs": [
      {
       "html": [
        "<div style=\"max-height:1000px;max-width:1500px;overflow:auto;\">\n",
        "<table border=\"1\" class=\"dataframe\">\n",
        "  <thead>\n",
        "    <tr style=\"text-align: right;\">\n",
        "      <th></th>\n",
        "      <th>Title</th>\n",
        "    </tr>\n",
        "    <tr>\n",
        "      <th>DocID:</th>\n",
        "      <th></th>\n",
        "    </tr>\n",
        "  </thead>\n",
        "  <tbody>\n",
        "    <tr>\n",
        "      <th>doc0</th>\n",
        "      <td>     Human machine interface for Lab ABC computer applications</td>\n",
        "    </tr>\n",
        "    <tr>\n",
        "      <th>doc1</th>\n",
        "      <td>     A survey of user opinion of computer system response time</td>\n",
        "    </tr>\n",
        "    <tr>\n",
        "      <th>doc2</th>\n",
        "      <td>                      The EPS user interface management system</td>\n",
        "    </tr>\n",
        "    <tr>\n",
        "      <th>doc3</th>\n",
        "      <td>            System and human system engineering testing of EPS</td>\n",
        "    </tr>\n",
        "    <tr>\n",
        "      <th>doc4</th>\n",
        "      <td> Relation of user-perceived response time to error measurement</td>\n",
        "    </tr>\n",
        "    <tr>\n",
        "      <th>doc5</th>\n",
        "      <td>             The generation of random, binary, unordered trees</td>\n",
        "    </tr>\n",
        "    <tr>\n",
        "      <th>doc6</th>\n",
        "      <td>                      The intersection graph of paths in trees</td>\n",
        "    </tr>\n",
        "    <tr>\n",
        "      <th>doc7</th>\n",
        "      <td>      Graph minors IV: Widths of trees and well-quasi-ordering</td>\n",
        "    </tr>\n",
        "    <tr>\n",
        "      <th>doc8</th>\n",
        "      <td>                                        Graph minors: A survey</td>\n",
        "    </tr>\n",
        "  </tbody>\n",
        "</table>\n",
        "</div>"
       ],
       "metadata": {},
       "output_type": "pyout",
       "prompt_number": 99,
       "text": [
        "                                                                Title\n",
        "DocID:                                                               \n",
        "doc0        Human machine interface for Lab ABC computer applications\n",
        "doc1        A survey of user opinion of computer system response time\n",
        "doc2                         The EPS user interface management system\n",
        "doc3               System and human system engineering testing of EPS\n",
        "doc4    Relation of user-perceived response time to error measurement\n",
        "doc5                The generation of random, binary, unordered trees\n",
        "doc6                         The intersection graph of paths in trees\n",
        "doc7         Graph minors IV: Widths of trees and well-quasi-ordering\n",
        "doc8                                           Graph minors: A survey"
       ]
      },
      {
       "output_type": "stream",
       "stream": "stdout",
       "text": [
        "\n"
       ]
      }
     ],
     "prompt_number": 99
    },
    {
     "cell_type": "code",
     "collapsed": false,
     "input": [
      "c_names = ['doc0', 'doc1', 'doc2', 'doc3', 'doc4', 'doc5', 'doc6', 'doc7', 'doc8']\n",
      "words = ['human', 'interface', 'computer', 'user', 'system', 'response', 'time', 'EPS', 'survey', 'trees', 'graph', 'minors']\n",
      "# build a term-document matrix\n",
      "tdm = pd.DataFrame([[1, 0, 0, 1, 0, 0, 0, 0, 0],\n",
      "                    [1, 0, 1, 0, 0, 0, 0, 0, 0],\n",
      "                    [1, 1, 0, 0, 0, 0, 0, 0, 0],\n",
      "                    [0, 1, 1, 0, 1, 0, 0, 0, 0],\n",
      "                    [0, 1, 1, 2, 0, 0, 0, 0, 0],\n",
      "                    [0, 1, 0, 0, 1, 0, 0, 0, 0],\n",
      "                    [0, 1, 0, 0, 1, 0, 0, 0, 0],\n",
      "                    [0, 0, 1, 1, 0, 0, 0, 0, 0],\n",
      "                    [0, 1, 0, 0, 0, 0, 0, 0, 1],\n",
      "                    [0, 0, 0, 0, 0, 1, 1, 1, 0],\n",
      "                    [0, 0, 0, 0, 0, 0, 1, 1, 1],\n",
      "                    [0, 0, 0, 0, 0, 0, 0, 1, 1]],\n",
      "                   index = words,\n",
      "                   columns = c_names)\n",
      "tdm.index.names = ['word:']\n",
      "tdm"
     ],
     "language": "python",
     "metadata": {},
     "outputs": [
      {
       "html": [
        "<div style=\"max-height:1000px;max-width:1500px;overflow:auto;\">\n",
        "<table border=\"1\" class=\"dataframe\">\n",
        "  <thead>\n",
        "    <tr style=\"text-align: right;\">\n",
        "      <th></th>\n",
        "      <th>doc0</th>\n",
        "      <th>doc1</th>\n",
        "      <th>doc2</th>\n",
        "      <th>doc3</th>\n",
        "      <th>doc4</th>\n",
        "      <th>doc5</th>\n",
        "      <th>doc6</th>\n",
        "      <th>doc7</th>\n",
        "      <th>doc8</th>\n",
        "    </tr>\n",
        "    <tr>\n",
        "      <th>word:</th>\n",
        "      <th></th>\n",
        "      <th></th>\n",
        "      <th></th>\n",
        "      <th></th>\n",
        "      <th></th>\n",
        "      <th></th>\n",
        "      <th></th>\n",
        "      <th></th>\n",
        "      <th></th>\n",
        "    </tr>\n",
        "  </thead>\n",
        "  <tbody>\n",
        "    <tr>\n",
        "      <th>human</th>\n",
        "      <td> 1</td>\n",
        "      <td> 0</td>\n",
        "      <td> 0</td>\n",
        "      <td> 1</td>\n",
        "      <td> 0</td>\n",
        "      <td> 0</td>\n",
        "      <td> 0</td>\n",
        "      <td> 0</td>\n",
        "      <td> 0</td>\n",
        "    </tr>\n",
        "    <tr>\n",
        "      <th>interface</th>\n",
        "      <td> 1</td>\n",
        "      <td> 0</td>\n",
        "      <td> 1</td>\n",
        "      <td> 0</td>\n",
        "      <td> 0</td>\n",
        "      <td> 0</td>\n",
        "      <td> 0</td>\n",
        "      <td> 0</td>\n",
        "      <td> 0</td>\n",
        "    </tr>\n",
        "    <tr>\n",
        "      <th>computer</th>\n",
        "      <td> 1</td>\n",
        "      <td> 1</td>\n",
        "      <td> 0</td>\n",
        "      <td> 0</td>\n",
        "      <td> 0</td>\n",
        "      <td> 0</td>\n",
        "      <td> 0</td>\n",
        "      <td> 0</td>\n",
        "      <td> 0</td>\n",
        "    </tr>\n",
        "    <tr>\n",
        "      <th>user</th>\n",
        "      <td> 0</td>\n",
        "      <td> 1</td>\n",
        "      <td> 1</td>\n",
        "      <td> 0</td>\n",
        "      <td> 1</td>\n",
        "      <td> 0</td>\n",
        "      <td> 0</td>\n",
        "      <td> 0</td>\n",
        "      <td> 0</td>\n",
        "    </tr>\n",
        "    <tr>\n",
        "      <th>system</th>\n",
        "      <td> 0</td>\n",
        "      <td> 1</td>\n",
        "      <td> 1</td>\n",
        "      <td> 2</td>\n",
        "      <td> 0</td>\n",
        "      <td> 0</td>\n",
        "      <td> 0</td>\n",
        "      <td> 0</td>\n",
        "      <td> 0</td>\n",
        "    </tr>\n",
        "    <tr>\n",
        "      <th>response</th>\n",
        "      <td> 0</td>\n",
        "      <td> 1</td>\n",
        "      <td> 0</td>\n",
        "      <td> 0</td>\n",
        "      <td> 1</td>\n",
        "      <td> 0</td>\n",
        "      <td> 0</td>\n",
        "      <td> 0</td>\n",
        "      <td> 0</td>\n",
        "    </tr>\n",
        "    <tr>\n",
        "      <th>time</th>\n",
        "      <td> 0</td>\n",
        "      <td> 1</td>\n",
        "      <td> 0</td>\n",
        "      <td> 0</td>\n",
        "      <td> 1</td>\n",
        "      <td> 0</td>\n",
        "      <td> 0</td>\n",
        "      <td> 0</td>\n",
        "      <td> 0</td>\n",
        "    </tr>\n",
        "    <tr>\n",
        "      <th>EPS</th>\n",
        "      <td> 0</td>\n",
        "      <td> 0</td>\n",
        "      <td> 1</td>\n",
        "      <td> 1</td>\n",
        "      <td> 0</td>\n",
        "      <td> 0</td>\n",
        "      <td> 0</td>\n",
        "      <td> 0</td>\n",
        "      <td> 0</td>\n",
        "    </tr>\n",
        "    <tr>\n",
        "      <th>survey</th>\n",
        "      <td> 0</td>\n",
        "      <td> 1</td>\n",
        "      <td> 0</td>\n",
        "      <td> 0</td>\n",
        "      <td> 0</td>\n",
        "      <td> 0</td>\n",
        "      <td> 0</td>\n",
        "      <td> 0</td>\n",
        "      <td> 1</td>\n",
        "    </tr>\n",
        "    <tr>\n",
        "      <th>trees</th>\n",
        "      <td> 0</td>\n",
        "      <td> 0</td>\n",
        "      <td> 0</td>\n",
        "      <td> 0</td>\n",
        "      <td> 0</td>\n",
        "      <td> 1</td>\n",
        "      <td> 1</td>\n",
        "      <td> 1</td>\n",
        "      <td> 0</td>\n",
        "    </tr>\n",
        "    <tr>\n",
        "      <th>graph</th>\n",
        "      <td> 0</td>\n",
        "      <td> 0</td>\n",
        "      <td> 0</td>\n",
        "      <td> 0</td>\n",
        "      <td> 0</td>\n",
        "      <td> 0</td>\n",
        "      <td> 1</td>\n",
        "      <td> 1</td>\n",
        "      <td> 1</td>\n",
        "    </tr>\n",
        "    <tr>\n",
        "      <th>minors</th>\n",
        "      <td> 0</td>\n",
        "      <td> 0</td>\n",
        "      <td> 0</td>\n",
        "      <td> 0</td>\n",
        "      <td> 0</td>\n",
        "      <td> 0</td>\n",
        "      <td> 0</td>\n",
        "      <td> 1</td>\n",
        "      <td> 1</td>\n",
        "    </tr>\n",
        "  </tbody>\n",
        "</table>\n",
        "</div>"
       ],
       "metadata": {},
       "output_type": "pyout",
       "prompt_number": 7,
       "text": [
        "           doc0  doc1  doc2  doc3  doc4  doc5  doc6  doc7  doc8\n",
        "word:                                                          \n",
        "human         1     0     0     1     0     0     0     0     0\n",
        "interface     1     0     1     0     0     0     0     0     0\n",
        "computer      1     1     0     0     0     0     0     0     0\n",
        "user          0     1     1     0     1     0     0     0     0\n",
        "system        0     1     1     2     0     0     0     0     0\n",
        "response      0     1     0     0     1     0     0     0     0\n",
        "time          0     1     0     0     1     0     0     0     0\n",
        "EPS           0     0     1     1     0     0     0     0     0\n",
        "survey        0     1     0     0     0     0     0     0     1\n",
        "trees         0     0     0     0     0     1     1     1     0\n",
        "graph         0     0     0     0     0     0     1     1     1\n",
        "minors        0     0     0     0     0     0     0     1     1"
       ]
      }
     ],
     "prompt_number": 7
    },
    {
     "cell_type": "code",
     "collapsed": false,
     "input": [
      "U, Sigma, V = np.linalg.svd(tdm)\n",
      "print \"V = \"\n",
      "print np.round(V, decimals=2)"
     ],
     "language": "python",
     "metadata": {},
     "outputs": [
      {
       "output_type": "stream",
       "stream": "stdout",
       "text": [
        "V = \n",
        "[[-0.2  -0.61 -0.46 -0.54 -0.28 -0.   -0.01 -0.02 -0.08]\n",
        " [-0.06  0.17 -0.13 -0.23  0.11  0.19  0.44  0.62  0.53]\n",
        " [ 0.11 -0.5   0.21  0.57 -0.51  0.1   0.19  0.25  0.08]\n",
        " [-0.95 -0.03  0.04  0.27  0.15  0.02  0.02  0.01 -0.02]\n",
        " [ 0.05 -0.21  0.38 -0.21  0.33  0.39  0.35  0.15 -0.6 ]\n",
        " [-0.08 -0.26  0.72 -0.37  0.03 -0.3  -0.21  0.    0.36]\n",
        " [-0.18  0.43  0.24 -0.26 -0.67  0.34  0.15 -0.25 -0.04]\n",
        " [ 0.01 -0.05 -0.01  0.02  0.06 -0.45  0.76 -0.45  0.07]\n",
        " [ 0.06 -0.24 -0.02  0.08  0.26  0.62 -0.02 -0.52  0.45]]\n"
       ]
      }
     ],
     "prompt_number": 38
    },
    {
     "cell_type": "code",
     "collapsed": false,
     "input": [
      "Sigma"
     ],
     "language": "python",
     "metadata": {},
     "outputs": [
      {
       "metadata": {},
       "output_type": "pyout",
       "prompt_number": 10,
       "text": [
        "array([ 3.34088375,  2.541701  ,  2.35394352,  1.64453229,  1.50483155,\n",
        "        1.30638195,  0.84590308,  0.56013442,  0.36367684])"
       ]
      }
     ],
     "prompt_number": 10
    },
    {
     "cell_type": "code",
     "collapsed": false,
     "input": [
      "%matplotlib inline\n",
      "import matplotlib.pyplot as plt\n",
      "\n",
      "plt.imshow(V, interpolation='none')\n",
      "plt.xticks(xrange(len(c_names)))\n",
      "plt.yticks(xrange(len(words)))\n",
      "ax = plt.gca()\n",
      "ax.set_xticklabels(c_names, rotation=90)\n",
      "ax.set_yticklabels(words)\n",
      "plt.title(\"$V$\")\n",
      "plt.colorbar();"
     ],
     "language": "python",
     "metadata": {},
     "outputs": [
      {
       "metadata": {},
       "output_type": "display_data",
       "png": "[encoded data removed]",
       "text": [
        "<matplotlib.figure.Figure at 0x10783ef90>"
       ]
      }
     ],
     "prompt_number": 29
    },
    {
     "cell_type": "code",
     "collapsed": false,
     "input": [
      "V_df = pd.DataFrame(V, columns=c_names)\n",
      "V_df.apply(lambda x: np.round(x, decimals=2))\n",
      "V_df"
     ],
     "language": "python",
     "metadata": {},
     "outputs": [
      {
       "html": [
        "<div style=\"max-height:1000px;max-width:1500px;overflow:auto;\">\n",
        "<table border=\"1\" class=\"dataframe\">\n",
        "  <thead>\n",
        "    <tr style=\"text-align: right;\">\n",
        "      <th></th>\n",
        "      <th>doc0</th>\n",
        "      <th>doc1</th>\n",
        "      <th>doc2</th>\n",
        "      <th>doc3</th>\n",
        "      <th>doc4</th>\n",
        "      <th>doc5</th>\n",
        "      <th>doc6</th>\n",
        "      <th>doc7</th>\n",
        "      <th>doc8</th>\n",
        "    </tr>\n",
        "  </thead>\n",
        "  <tbody>\n",
        "    <tr>\n",
        "      <th>0</th>\n",
        "      <td>-0.197393</td>\n",
        "      <td>-0.605990</td>\n",
        "      <td>-0.462918</td>\n",
        "      <td>-0.542114</td>\n",
        "      <td>-0.279469</td>\n",
        "      <td>-0.003815</td>\n",
        "      <td>-0.014631</td>\n",
        "      <td>-0.024137</td>\n",
        "      <td>-0.081957</td>\n",
        "    </tr>\n",
        "    <tr>\n",
        "      <th>1</th>\n",
        "      <td>-0.055914</td>\n",
        "      <td> 0.165593</td>\n",
        "      <td>-0.127312</td>\n",
        "      <td>-0.231755</td>\n",
        "      <td> 0.106775</td>\n",
        "      <td> 0.192848</td>\n",
        "      <td> 0.437875</td>\n",
        "      <td> 0.615122</td>\n",
        "      <td> 0.529937</td>\n",
        "    </tr>\n",
        "    <tr>\n",
        "      <th>2</th>\n",
        "      <td> 0.110270</td>\n",
        "      <td>-0.497326</td>\n",
        "      <td> 0.207606</td>\n",
        "      <td> 0.569921</td>\n",
        "      <td>-0.505450</td>\n",
        "      <td> 0.098184</td>\n",
        "      <td> 0.192956</td>\n",
        "      <td> 0.252904</td>\n",
        "      <td> 0.079273</td>\n",
        "    </tr>\n",
        "    <tr>\n",
        "      <th>3</th>\n",
        "      <td>-0.949785</td>\n",
        "      <td>-0.028649</td>\n",
        "      <td> 0.041609</td>\n",
        "      <td> 0.267714</td>\n",
        "      <td> 0.150035</td>\n",
        "      <td> 0.015081</td>\n",
        "      <td> 0.015507</td>\n",
        "      <td> 0.010199</td>\n",
        "      <td>-0.024555</td>\n",
        "    </tr>\n",
        "    <tr>\n",
        "      <th>4</th>\n",
        "      <td> 0.045679</td>\n",
        "      <td>-0.206327</td>\n",
        "      <td> 0.378336</td>\n",
        "      <td>-0.205605</td>\n",
        "      <td> 0.327194</td>\n",
        "      <td> 0.394841</td>\n",
        "      <td> 0.349485</td>\n",
        "      <td> 0.149798</td>\n",
        "      <td>-0.601993</td>\n",
        "    </tr>\n",
        "    <tr>\n",
        "      <th>5</th>\n",
        "      <td>-0.076594</td>\n",
        "      <td>-0.256475</td>\n",
        "      <td> 0.724400</td>\n",
        "      <td>-0.368861</td>\n",
        "      <td> 0.034813</td>\n",
        "      <td>-0.300161</td>\n",
        "      <td>-0.212201</td>\n",
        "      <td> 0.000097</td>\n",
        "      <td> 0.362219</td>\n",
        "    </tr>\n",
        "    <tr>\n",
        "      <th>6</th>\n",
        "      <td>-0.177318</td>\n",
        "      <td> 0.432984</td>\n",
        "      <td> 0.236890</td>\n",
        "      <td>-0.264800</td>\n",
        "      <td>-0.672304</td>\n",
        "      <td> 0.340840</td>\n",
        "      <td> 0.152195</td>\n",
        "      <td>-0.249146</td>\n",
        "      <td>-0.038034</td>\n",
        "    </tr>\n",
        "    <tr>\n",
        "      <th>7</th>\n",
        "      <td> 0.014393</td>\n",
        "      <td>-0.049305</td>\n",
        "      <td>-0.008826</td>\n",
        "      <td> 0.019467</td>\n",
        "      <td> 0.058350</td>\n",
        "      <td>-0.454477</td>\n",
        "      <td> 0.761527</td>\n",
        "      <td>-0.449643</td>\n",
        "      <td> 0.069638</td>\n",
        "    </tr>\n",
        "    <tr>\n",
        "      <th>8</th>\n",
        "      <td> 0.063692</td>\n",
        "      <td>-0.242783</td>\n",
        "      <td>-0.024077</td>\n",
        "      <td> 0.084207</td>\n",
        "      <td> 0.262376</td>\n",
        "      <td> 0.619847</td>\n",
        "      <td>-0.017975</td>\n",
        "      <td>-0.519890</td>\n",
        "      <td> 0.453507</td>\n",
        "    </tr>\n",
        "  </tbody>\n",
        "</table>\n",
        "</div>"
       ],
       "metadata": {},
       "output_type": "pyout",
       "prompt_number": 9,
       "text": [
        "       doc0      doc1      doc2      doc3      doc4      doc5      doc6  \\\n",
        "0 -0.197393 -0.605990 -0.462918 -0.542114 -0.279469 -0.003815 -0.014631   \n",
        "1 -0.055914  0.165593 -0.127312 -0.231755  0.106775  0.192848  0.437875   \n",
        "2  0.110270 -0.497326  0.207606  0.569921 -0.505450  0.098184  0.192956   \n",
        "3 -0.949785 -0.028649  0.041609  0.267714  0.150035  0.015081  0.015507   \n",
        "4  0.045679 -0.206327  0.378336 -0.205605  0.327194  0.394841  0.349485   \n",
        "5 -0.076594 -0.256475  0.724400 -0.368861  0.034813 -0.300161 -0.212201   \n",
        "6 -0.177318  0.432984  0.236890 -0.264800 -0.672304  0.340840  0.152195   \n",
        "7  0.014393 -0.049305 -0.008826  0.019467  0.058350 -0.454477  0.761527   \n",
        "8  0.063692 -0.242783 -0.024077  0.084207  0.262376  0.619847 -0.017975   \n",
        "\n",
        "       doc7      doc8  \n",
        "0 -0.024137 -0.081957  \n",
        "1  0.615122  0.529937  \n",
        "2  0.252904  0.079273  \n",
        "3  0.010199 -0.024555  \n",
        "4  0.149798 -0.601993  \n",
        "5  0.000097  0.362219  \n",
        "6 -0.249146 -0.038034  \n",
        "7 -0.449643  0.069638  \n",
        "8 -0.519890  0.453507  "
       ]
      }
     ],
     "prompt_number": 9
    },
    {
     "cell_type": "code",
     "collapsed": false,
     "input": [
      "plt.imshow(V, interpolation='none')\n",
      "ax = plt.gca()\n",
      "plt.xticks(xrange(len(V_df.columns.values)))\n",
      "plt.yticks(xrange(len(V_df.index.values)))\n",
      "plt.title(\"$V$\")\n",
      "ax.set_xticklabels(V_df.columns.values, rotation=90)\n",
      "plt.colorbar();"
     ],
     "language": "python",
     "metadata": {},
     "outputs": [
      {
       "metadata": {},
       "output_type": "display_data",
       "png": "[encoded data removed]",
       "text": [
        "<matplotlib.figure.Figure at 0x107788f90>"
       ]
      }
     ],
     "prompt_number": 18
    },
    {
     "cell_type": "code",
     "collapsed": false,
     "input": [
      "A_approx = np.matrix(U[:, :2]) * np.diag(Sigma[:2]) * np.matrix(V[:2, :])\n",
      "\n",
      "print \"A calculated using only the first two components:\\n\"\n",
      "print pd.DataFrame(A_approx, index=words, columns=c_names)\n",
      "print \"\\nError from actual value:\\n\"\n",
      "print tdm - A_approx"
     ],
     "language": "python",
     "metadata": {},
     "outputs": [
      {
       "output_type": "stream",
       "stream": "stdout",
       "text": [
        "A calculated using only the first two components:\n",
        "\n",
        "               doc0      doc1      doc2      doc3      doc4      doc5  \\\n",
        "human      0.162058  0.400498  0.378955  0.467566  0.175954 -0.052655   \n",
        "interface  0.140585  0.369801  0.328996  0.400427  0.164972 -0.032815   \n",
        "computer   0.152449  0.505004  0.357937  0.410107  0.236232  0.024217   \n",
        "user       0.258049  0.841123  0.605720  0.697357  0.392318  0.033118   \n",
        "system     0.448790  1.234365  1.050861  1.265796  0.556331 -0.073790   \n",
        "response   0.159554  0.581682  0.375219  0.416898  0.276541  0.055904   \n",
        "time       0.159554  0.581682  0.375219  0.416898  0.276541  0.055904   \n",
        "EPS        0.218463  0.549581  0.510960  0.628058  0.242536 -0.065411   \n",
        "survey     0.096906  0.532064  0.229914  0.211754  0.266525  0.136756   \n",
        "trees     -0.061254  0.232108 -0.138898 -0.265646  0.144925  0.240421   \n",
        "graph     -0.064677  0.335281 -0.145641 -0.301406  0.202756  0.305726   \n",
        "minors    -0.043082  0.253906 -0.096667 -0.207858  0.151913  0.221227   \n",
        "\n",
        "               doc6      doc7      doc8  \n",
        "human     -0.115143 -0.159102 -0.091838  \n",
        "interface -0.070569 -0.096768 -0.042981  \n",
        "computer   0.059781  0.086857  0.123966  \n",
        "user       0.083245  0.121772  0.187380  \n",
        "system    -0.154694 -0.209598 -0.048880  \n",
        "response   0.132218  0.188911  0.216908  \n",
        "time       0.132218  0.188911  0.216908  \n",
        "EPS       -0.142521 -0.196612 -0.107913  \n",
        "survey     0.314621  0.444441  0.424969  \n",
        "trees      0.546147  0.767374  0.663709  \n",
        "graph      0.694893  0.976611  0.848750  \n",
        "minors     0.502945  0.706912  0.615504  \n",
        "\n",
        "Error from actual value:\n",
        "\n",
        "               doc0      doc1      doc2      doc3      doc4      doc5  \\\n",
        "word:                                                                   \n",
        "human      0.837942 -0.400498 -0.378955  0.532434 -0.175954  0.052655   \n",
        "interface  0.859415 -0.369801  0.671004 -0.400427 -0.164972  0.032815   \n",
        "computer   0.847551  0.494996 -0.357937 -0.410107 -0.236232 -0.024217   \n",
        "user      -0.258049  0.158877  0.394280 -0.697357  0.607682 -0.033118   \n",
        "system    -0.448790 -0.234365 -0.050861  0.734204 -0.556331  0.073790   \n",
        "response  -0.159554  0.418318 -0.375219 -0.416898  0.723459 -0.055904   \n",
        "time      -0.159554  0.418318 -0.375219 -0.416898  0.723459 -0.055904   \n",
        "EPS       -0.218463 -0.549581  0.489040  0.371942 -0.242536  0.065411   \n",
        "survey    -0.096906  0.467936 -0.229914 -0.211754 -0.266525 -0.136756   \n",
        "trees      0.061254 -0.232108  0.138898  0.265646 -0.144925  0.759579   \n",
        "graph      0.064677 -0.335281  0.145641  0.301406 -0.202756 -0.305726   \n",
        "minors     0.043082 -0.253906  0.096667  0.207858 -0.151913 -0.221227   \n",
        "\n",
        "               doc6      doc7      doc8  \n",
        "word:                                    \n",
        "human      0.115143  0.159102  0.091838  \n",
        "interface  0.070569  0.096768  0.042981  \n",
        "computer  -0.059781 -0.086857 -0.123966  \n",
        "user      -0.083245 -0.121772 -0.187380  \n",
        "system     0.154694  0.209598  0.048880  \n",
        "response  -0.132218 -0.188911 -0.216908  \n",
        "time      -0.132218 -0.188911 -0.216908  \n",
        "EPS        0.142521  0.196612  0.107913  \n",
        "survey    -0.314621 -0.444441  0.575031  \n",
        "trees      0.453853  0.232626 -0.663709  \n",
        "graph      0.305107  0.023389  0.151250  \n",
        "minors    -0.502945  0.293088  0.384496  \n"
       ]
      }
     ],
     "prompt_number": 12
    },
    {
     "cell_type": "heading",
     "level": 2,
     "metadata": {},
     "source": [
      "SVD for Information Retrieval"
     ]
    },
    {
     "cell_type": "markdown",
     "metadata": {},
     "source": [
      "SVD used for information retrieval is commonly referred to as Latent Semantic Indexing (LSI). To reduce the space needed to store all dimensions of document similarity and term similarity we can take the first two dimensions (which contains the most informative orthogonal factors)."
     ]
    },
    {
     "cell_type": "code",
     "collapsed": false,
     "input": [
      "scales = pd.DataFrame(np.matrix(Sigma[:2]))\n",
      "scales"
     ],
     "language": "python",
     "metadata": {},
     "outputs": [
      {
       "html": [
        "<div style=\"max-height:1000px;max-width:1500px;overflow:auto;\">\n",
        "<table border=\"1\" class=\"dataframe\">\n",
        "  <thead>\n",
        "    <tr style=\"text-align: right;\">\n",
        "      <th></th>\n",
        "      <th>0</th>\n",
        "      <th>1</th>\n",
        "    </tr>\n",
        "  </thead>\n",
        "  <tbody>\n",
        "    <tr>\n",
        "      <th>0</th>\n",
        "      <td> 3.340884</td>\n",
        "      <td> 2.541701</td>\n",
        "    </tr>\n",
        "  </tbody>\n",
        "</table>\n",
        "</div>"
       ],
       "metadata": {},
       "output_type": "pyout",
       "prompt_number": 59,
       "text": [
        "          0         1\n",
        "0  3.340884  2.541701"
       ]
      }
     ],
     "prompt_number": 59
    },
    {
     "cell_type": "code",
     "collapsed": false,
     "input": [
      "term_vectors = pd.DataFrame(np.matrix(U[:, :2]), index=words)\n",
      "term_vectors"
     ],
     "language": "python",
     "metadata": {},
     "outputs": [
      {
       "html": [
        "<div style=\"max-height:1000px;max-width:1500px;overflow:auto;\">\n",
        "<table border=\"1\" class=\"dataframe\">\n",
        "  <thead>\n",
        "    <tr style=\"text-align: right;\">\n",
        "      <th></th>\n",
        "      <th>0</th>\n",
        "      <th>1</th>\n",
        "    </tr>\n",
        "  </thead>\n",
        "  <tbody>\n",
        "    <tr>\n",
        "      <th>human</th>\n",
        "      <td>-0.221351</td>\n",
        "      <td>-0.113180</td>\n",
        "    </tr>\n",
        "    <tr>\n",
        "      <th>interface</th>\n",
        "      <td>-0.197645</td>\n",
        "      <td>-0.072088</td>\n",
        "    </tr>\n",
        "    <tr>\n",
        "      <th>computer</th>\n",
        "      <td>-0.240470</td>\n",
        "      <td> 0.043152</td>\n",
        "    </tr>\n",
        "    <tr>\n",
        "      <th>user</th>\n",
        "      <td>-0.403599</td>\n",
        "      <td> 0.057070</td>\n",
        "    </tr>\n",
        "    <tr>\n",
        "      <th>system</th>\n",
        "      <td>-0.644481</td>\n",
        "      <td>-0.167301</td>\n",
        "    </tr>\n",
        "    <tr>\n",
        "      <th>response</th>\n",
        "      <td>-0.265037</td>\n",
        "      <td> 0.107160</td>\n",
        "    </tr>\n",
        "    <tr>\n",
        "      <th>time</th>\n",
        "      <td>-0.265037</td>\n",
        "      <td> 0.107160</td>\n",
        "    </tr>\n",
        "    <tr>\n",
        "      <th>EPS</th>\n",
        "      <td>-0.300828</td>\n",
        "      <td>-0.141270</td>\n",
        "    </tr>\n",
        "    <tr>\n",
        "      <th>survey</th>\n",
        "      <td>-0.205918</td>\n",
        "      <td> 0.273647</td>\n",
        "    </tr>\n",
        "    <tr>\n",
        "      <th>trees</th>\n",
        "      <td>-0.012746</td>\n",
        "      <td> 0.490162</td>\n",
        "    </tr>\n",
        "    <tr>\n",
        "      <th>graph</th>\n",
        "      <td>-0.036136</td>\n",
        "      <td> 0.622785</td>\n",
        "    </tr>\n",
        "    <tr>\n",
        "      <th>minors</th>\n",
        "      <td>-0.031756</td>\n",
        "      <td> 0.450509</td>\n",
        "    </tr>\n",
        "  </tbody>\n",
        "</table>\n",
        "</div>"
       ],
       "metadata": {},
       "output_type": "pyout",
       "prompt_number": 36,
       "text": [
        "                  0         1\n",
        "human     -0.221351 -0.113180\n",
        "interface -0.197645 -0.072088\n",
        "computer  -0.240470  0.043152\n",
        "user      -0.403599  0.057070\n",
        "system    -0.644481 -0.167301\n",
        "response  -0.265037  0.107160\n",
        "time      -0.265037  0.107160\n",
        "EPS       -0.300828 -0.141270\n",
        "survey    -0.205918  0.273647\n",
        "trees     -0.012746  0.490162\n",
        "graph     -0.036136  0.622785\n",
        "minors    -0.031756  0.450509"
       ]
      }
     ],
     "prompt_number": 36
    },
    {
     "cell_type": "code",
     "collapsed": false,
     "input": [
      "doc_vectors = pd.DataFrame(np.matrix(V[:, :2]), index=c_names)\n",
      "doc_vectors"
     ],
     "language": "python",
     "metadata": {},
     "outputs": [
      {
       "html": [
        "<div style=\"max-height:1000px;max-width:1500px;overflow:auto;\">\n",
        "<table border=\"1\" class=\"dataframe\">\n",
        "  <thead>\n",
        "    <tr style=\"text-align: right;\">\n",
        "      <th></th>\n",
        "      <th>0</th>\n",
        "      <th>1</th>\n",
        "    </tr>\n",
        "  </thead>\n",
        "  <tbody>\n",
        "    <tr>\n",
        "      <th>doc0</th>\n",
        "      <td>-0.197393</td>\n",
        "      <td>-0.605990</td>\n",
        "    </tr>\n",
        "    <tr>\n",
        "      <th>doc1</th>\n",
        "      <td>-0.055914</td>\n",
        "      <td> 0.165593</td>\n",
        "    </tr>\n",
        "    <tr>\n",
        "      <th>doc2</th>\n",
        "      <td> 0.110270</td>\n",
        "      <td>-0.497326</td>\n",
        "    </tr>\n",
        "    <tr>\n",
        "      <th>doc3</th>\n",
        "      <td>-0.949785</td>\n",
        "      <td>-0.028649</td>\n",
        "    </tr>\n",
        "    <tr>\n",
        "      <th>doc4</th>\n",
        "      <td> 0.045679</td>\n",
        "      <td>-0.206327</td>\n",
        "    </tr>\n",
        "    <tr>\n",
        "      <th>doc5</th>\n",
        "      <td>-0.076594</td>\n",
        "      <td>-0.256475</td>\n",
        "    </tr>\n",
        "    <tr>\n",
        "      <th>doc6</th>\n",
        "      <td>-0.177318</td>\n",
        "      <td> 0.432984</td>\n",
        "    </tr>\n",
        "    <tr>\n",
        "      <th>doc7</th>\n",
        "      <td> 0.014393</td>\n",
        "      <td>-0.049305</td>\n",
        "    </tr>\n",
        "    <tr>\n",
        "      <th>doc8</th>\n",
        "      <td> 0.063692</td>\n",
        "      <td>-0.242783</td>\n",
        "    </tr>\n",
        "  </tbody>\n",
        "</table>\n",
        "</div>"
       ],
       "metadata": {},
       "output_type": "pyout",
       "prompt_number": 37,
       "text": [
        "             0         1\n",
        "doc0 -0.197393 -0.605990\n",
        "doc1 -0.055914  0.165593\n",
        "doc2  0.110270 -0.497326\n",
        "doc3 -0.949785 -0.028649\n",
        "doc4  0.045679 -0.206327\n",
        "doc5 -0.076594 -0.256475\n",
        "doc6 -0.177318  0.432984\n",
        "doc7  0.014393 -0.049305\n",
        "doc8  0.063692 -0.242783"
       ]
      }
     ],
     "prompt_number": 37
    },
    {
     "cell_type": "code",
     "collapsed": false,
     "input": [
      "print \"Query: human computer interaction\"\n",
      "print \"human:\\n\", term_vectors.loc['human']\n",
      "print \"computer:\\n\", term_vectors.loc['computer']\n",
      "print \"interaction:\\n\", \"not found\"\n",
      "query = term_vectors.loc['human'] + term_vectors.loc['computer']\n",
      "print \"query vector:\\n\", query"
     ],
     "language": "python",
     "metadata": {},
     "outputs": [
      {
       "output_type": "stream",
       "stream": "stdout",
       "text": [
        "Query: human computer interaction\n",
        "human:\n",
        "0   -0.221351\n",
        "1   -0.113180\n",
        "Name: human, dtype: float64\n",
        "computer:\n",
        "0   -0.240470\n",
        "1    0.043152\n",
        "Name: computer, dtype: float64\n",
        "interaction:\n",
        "not found\n",
        "query vector:\n",
        "0   -0.461821\n",
        "1   -0.070028\n",
        "dtype: float64\n"
       ]
      }
     ],
     "prompt_number": 68
    },
    {
     "cell_type": "code",
     "collapsed": false,
     "input": [
      "for doc in c_names:\n",
      "    print doc, docs.loc[doc][0], np.matrix(query) * np.diag(Sigma[:2]) * np.matrix(doc_vectors.loc[doc]).transpose()"
     ],
     "language": "python",
     "metadata": {},
     "outputs": [
      {
       "output_type": "stream",
       "stream": "stdout",
       "text": [
        "doc0 Human machine interface for Lab ABC computer applications [[ 0.41241527]]\n",
        "doc1 A survey of user opinion of computer system response time [[ 0.05679465]]\n",
        "doc2 The EPS user interface management system [[-0.08161526]]\n",
        "doc3 System and human system engineering testing of EPS [[ 1.47051329]]\n",
        "doc4 Relation of user-perceived response time to error measurement [[-0.03375294]]\n",
        "doc5 The generation of random, binary, unordered trees [[ 0.16382533]]\n",
        "doc6 The intersection graph of paths in trees [[ 0.19651608]]\n",
        "doc7 Graph minors IV: Widths of trees and well-quasi-ordering [[-0.01343139]]\n",
        "doc8 Graph minors: A survey [[-0.05505744]]\n"
       ]
      }
     ],
     "prompt_number": 104
    },
    {
     "cell_type": "markdown",
     "metadata": {},
     "source": [
      "[Baker]: K. Baker. SVD Tutorial. http://www.ling.ohio-state.edu/~kbaker/pubs/Singular_Value_Decomposition_Tutorial.pdf\n",
      "\n",
      "[Cleary]: F. Cleary. SVD and applications. http://www.frankcleary.com/svd/\n",
      "\n",
      "[Gorrell]: G. Gorrell. Generalized Hebbian Algorithm for Incremental Singular Value Decomposition in Natural Language Processing. EACL 2006."
     ]
    },
    {
     "cell_type": "code",
     "collapsed": false,
     "input": [],
     "language": "python",
     "metadata": {},
     "outputs": []
    },
    {
     "cell_type": "code",
     "collapsed": false,
     "input": [],
     "language": "python",
     "metadata": {},
     "outputs": []
    }
   ],
   "metadata": {}
  }
 ]
}